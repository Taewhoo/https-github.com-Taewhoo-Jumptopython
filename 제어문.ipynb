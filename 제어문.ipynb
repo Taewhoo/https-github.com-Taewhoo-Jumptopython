{
  "nbformat": 4,
  "nbformat_minor": 0,
  "metadata": {
    "colab": {
      "name": "제어문.ipynb",
      "provenance": [],
      "collapsed_sections": [],
      "authorship_tag": "ABX9TyMmj2PYT5WQrl5xCrJBC7EN",
      "include_colab_link": true
    },
    "kernelspec": {
      "name": "python3",
      "display_name": "Python 3"
    },
    "language_info": {
      "name": "python"
    }
  },
  "cells": [
    {
      "cell_type": "markdown",
      "metadata": {
        "id": "view-in-github",
        "colab_type": "text"
      },
      "source": [
        "<a href=\"https://colab.research.google.com/github/Taewhoo/https-github.com-Taewhoo-Jumptopython/blob/main/%EC%A0%9C%EC%96%B4%EB%AC%B8.ipynb\" target=\"_parent\"><img src=\"https://colab.research.google.com/assets/colab-badge.svg\" alt=\"Open In Colab\"/></a>"
      ]
    },
    {
      "cell_type": "markdown",
      "metadata": {
        "id": "jeGHqAFx-_2y"
      },
      "source": [
        "if문"
      ]
    },
    {
      "cell_type": "code",
      "metadata": {
        "colab": {
          "base_uri": "https://localhost:8080/"
        },
        "id": "mQ5DK7Oh_EZT",
        "outputId": "e4432303-c8f1-4fac-e31e-9a748b07aee7"
      },
      "source": [
        "1 in [1,2,3]"
      ],
      "execution_count": 1,
      "outputs": [
        {
          "output_type": "execute_result",
          "data": {
            "text/plain": [
              "True"
            ]
          },
          "metadata": {},
          "execution_count": 1
        }
      ]
    },
    {
      "cell_type": "code",
      "metadata": {
        "colab": {
          "base_uri": "https://localhost:8080/"
        },
        "id": "YE5exJjR_aEk",
        "outputId": "af2a32b9-a853-4448-afca-78d33087d201"
      },
      "source": [
        "'j' not in 'python'"
      ],
      "execution_count": 2,
      "outputs": [
        {
          "output_type": "execute_result",
          "data": {
            "text/plain": [
              "True"
            ]
          },
          "metadata": {},
          "execution_count": 2
        }
      ]
    },
    {
      "cell_type": "code",
      "metadata": {
        "colab": {
          "base_uri": "https://localhost:8080/"
        },
        "id": "0MNkUjI6_cJj",
        "outputId": "905a1156-6d3e-4420-bef8-af1d66801f97"
      },
      "source": [
        "pocket = 'money', 'cellphone', 'paper'\n",
        "if 'money' in pocket:\n",
        "  print('택시 타고 가')\n",
        "else:\n",
        "  print('걸어가')"
      ],
      "execution_count": 3,
      "outputs": [
        {
          "output_type": "stream",
          "name": "stdout",
          "text": [
            "택시 타고 가\n"
          ]
        }
      ]
    },
    {
      "cell_type": "markdown",
      "metadata": {
        "id": "OLjLZzXtAF2R"
      },
      "source": [
        "조건부 표현식"
      ]
    },
    {
      "cell_type": "code",
      "metadata": {
        "colab": {
          "base_uri": "https://localhost:8080/",
          "height": 35
        },
        "id": "EQKNdcbw_rHS",
        "outputId": "305a9f85-b34b-4b85-eae7-91e482b77ec0"
      },
      "source": [
        "시험성적 = 65\n",
        "message = 'success' if 시험성적 >= 60 else 'failure'\n",
        "message #가독성에 유리"
      ],
      "execution_count": 8,
      "outputs": [
        {
          "output_type": "execute_result",
          "data": {
            "application/vnd.google.colaboratory.intrinsic+json": {
              "type": "string"
            },
            "text/plain": [
              "'success'"
            ]
          },
          "metadata": {},
          "execution_count": 8
        }
      ]
    },
    {
      "cell_type": "markdown",
      "metadata": {
        "id": "mk52nF49AiHQ"
      },
      "source": [
        "while문(반복문)"
      ]
    },
    {
      "cell_type": "code",
      "metadata": {
        "colab": {
          "base_uri": "https://localhost:8080/"
        },
        "id": "7w54E-wLAboV",
        "outputId": "6e9cec1c-74d4-4b9b-fc6f-671d0f2ffbe0"
      },
      "source": [
        "횟수 = 0\n",
        "while 횟수 < 10:\n",
        "  횟수 = 횟수 + 1\n",
        "  print('나무를 %d번 찍었습니다' % 횟수)\n",
        "  if 횟수 == 10:\n",
        "    print('나무 넘어갑니다.')"
      ],
      "execution_count": 10,
      "outputs": [
        {
          "output_type": "stream",
          "name": "stdout",
          "text": [
            "나무를 1번 찍었습니다\n",
            "나무를 2번 찍었습니다\n",
            "나무를 3번 찍었습니다\n",
            "나무를 4번 찍었습니다\n",
            "나무를 5번 찍었습니다\n",
            "나무를 6번 찍었습니다\n",
            "나무를 7번 찍었습니다\n",
            "나무를 8번 찍었습니다\n",
            "나무를 9번 찍었습니다\n",
            "나무를 10번 찍었습니다\n",
            "나무 넘어갑니다.\n"
          ]
        }
      ]
    },
    {
      "cell_type": "code",
      "metadata": {
        "colab": {
          "base_uri": "https://localhost:8080/"
        },
        "id": "iuHVDwcMAG1G",
        "outputId": "a53410a1-001b-4f03-c1de-ca39efd5262a"
      },
      "source": [
        "lists = '''\n",
        "1. add\n",
        "2. del\n",
        "3. list\n",
        "4. quit\n",
        "\n",
        "Enter number: \n",
        "'''\n",
        "\n",
        "number = 0\n",
        "while number != 4:\n",
        "  print(lists)\n",
        "  number = int(input())\n"
      ],
      "execution_count": 17,
      "outputs": [
        {
          "name": "stdout",
          "output_type": "stream",
          "text": [
            "\n",
            "1. add\n",
            "2. del\n",
            "3. list\n",
            "4. quit\n",
            "\n",
            "Enter number: \n",
            "\n",
            "1\n",
            "\n",
            "1. add\n",
            "2. del\n",
            "3. list\n",
            "4. quit\n",
            "\n",
            "Enter number: \n",
            "\n",
            "2\n",
            "\n",
            "1. add\n",
            "2. del\n",
            "3. list\n",
            "4. quit\n",
            "\n",
            "Enter number: \n",
            "\n",
            "4\n"
          ]
        }
      ]
    },
    {
      "cell_type": "code",
      "metadata": {
        "colab": {
          "base_uri": "https://localhost:8080/"
        },
        "id": "t8Km32fYAGqo",
        "outputId": "430af60e-4191-40f6-f79c-f8832b844ed8"
      },
      "source": [
        "coffee = 5\n",
        "money = 300\n",
        "while money:\n",
        "  print('커피 나갑니다.')\n",
        "  coffee = coffee -1\n",
        "  print('커피 %d잔 남았습니다' % coffee)\n",
        "  if coffee == 0:\n",
        "    print('커피 다 떨어졌습니다.')\n",
        "    break\n"
      ],
      "execution_count": 18,
      "outputs": [
        {
          "output_type": "stream",
          "name": "stdout",
          "text": [
            "커피 나갑니다.\n",
            "커피 4잔 남았습니다\n",
            "커피 나갑니다.\n",
            "커피 3잔 남았습니다\n",
            "커피 나갑니다.\n",
            "커피 2잔 남았습니다\n",
            "커피 나갑니다.\n",
            "커피 1잔 남았습니다\n",
            "커피 나갑니다.\n",
            "커피 0잔 남았습니다\n",
            "커피 다 떨어졌습니다.\n"
          ]
        }
      ]
    },
    {
      "cell_type": "code",
      "metadata": {
        "colab": {
          "base_uri": "https://localhost:8080/"
        },
        "id": "KfjgWceAEm4o",
        "outputId": "a85ae681-cff9-4d3d-f7ea-d524a9fcbd79"
      },
      "source": [
        "coffee = 10\n",
        "while coffee:\n",
        "  money = int(input(\"돈을 넣어 주세요: \"))\n",
        "  if money > 300:\n",
        "    print('커피를 줍니다. 거스름돈은 %d입니다.' % (money - 300))\n",
        "    coffee = coffee - 1\n",
        "    print('남은 커피는 %d잔입니다.' % coffee)\n",
        "  elif money == 300:\n",
        "    print('커피를 줍니다.')\n",
        "    coffee = coffee - 1\n",
        "    print('남은 커피는 %d잔입니다.' % coffee)\n",
        "  else:\n",
        "    print('돈이 부족합니다.')\n",
        "    print('남은 커피는 %d잔입니다.' % coffee)\n",
        "  if coffee == 0:\n",
        "    print('커피가 다 떨어졌습니다.')\n",
        "    break\n",
        "  \n"
      ],
      "execution_count": 20,
      "outputs": [
        {
          "output_type": "stream",
          "name": "stdout",
          "text": [
            "돈을 넣어 주세요: 310\n",
            "커피를 줍니다. 거스름돈은 10입니다.\n",
            "남은 커피는 9잔입니다.\n",
            "돈을 넣어 주세요: 300\n",
            "커피를 줍니다.\n",
            "남은 커피는 8잔입니다.\n",
            "돈을 넣어 주세요: 259\n",
            "돈이 부족합니다.\n",
            "남은 커피는 8잔입니다.\n",
            "돈을 넣어 주세요: 400\n",
            "커피를 줍니다. 거스름돈은 100입니다.\n",
            "남은 커피는 7잔입니다.\n",
            "돈을 넣어 주세요: 500\n",
            "커피를 줍니다. 거스름돈은 200입니다.\n",
            "남은 커피는 6잔입니다.\n",
            "돈을 넣어 주세요: 300\n",
            "커피를 줍니다.\n",
            "남은 커피는 5잔입니다.\n",
            "돈을 넣어 주세요: 599\n",
            "커피를 줍니다. 거스름돈은 299입니다.\n",
            "남은 커피는 4잔입니다.\n",
            "돈을 넣어 주세요: 399\n",
            "커피를 줍니다. 거스름돈은 99입니다.\n",
            "남은 커피는 3잔입니다.\n",
            "돈을 넣어 주세요: 599\n",
            "커피를 줍니다. 거스름돈은 299입니다.\n",
            "남은 커피는 2잔입니다.\n",
            "돈을 넣어 주세요: 399\n",
            "커피를 줍니다. 거스름돈은 99입니다.\n",
            "남은 커피는 1잔입니다.\n",
            "돈을 넣어 주세요: 100\n",
            "돈이 부족합니다.\n",
            "남은 커피는 1잔입니다.\n",
            "돈을 넣어 주세요: 500\n",
            "커피를 줍니다. 거스름돈은 200입니다.\n",
            "남은 커피는 0잔입니다.\n",
            "커피가 다 떨어졌습니다.\n"
          ]
        }
      ]
    },
    {
      "cell_type": "code",
      "metadata": {
        "colab": {
          "base_uri": "https://localhost:8080/"
        },
        "id": "M_bNqpCxHp9f",
        "outputId": "b899f8a5-eda9-45af-e166-c122a1e2e106"
      },
      "source": [
        "a = 0\n",
        "while a < 10:\n",
        "  a = a + 1\n",
        "  if a % 2 == 0:\n",
        "    continue # 처음으로 돌아감\n",
        "  print(a)"
      ],
      "execution_count": 24,
      "outputs": [
        {
          "output_type": "stream",
          "name": "stdout",
          "text": [
            "1\n",
            "3\n",
            "5\n",
            "7\n",
            "9\n"
          ]
        }
      ]
    },
    {
      "cell_type": "markdown",
      "metadata": {
        "id": "y1KsHN3uI6Zc"
      },
      "source": [
        "for문"
      ]
    },
    {
      "cell_type": "code",
      "metadata": {
        "colab": {
          "base_uri": "https://localhost:8080/"
        },
        "id": "wMZ1eG9cI71L",
        "outputId": "6b9593ea-f4d4-4d14-c77e-9acacedb4e80"
      },
      "source": [
        "list = ['태후', '채연', '태순']\n",
        "for x in list:\n",
        "  print(x)\n",
        "#리스트 순차적으로 출력"
      ],
      "execution_count": 25,
      "outputs": [
        {
          "output_type": "stream",
          "name": "stdout",
          "text": [
            "태후\n",
            "채연\n",
            "태순\n"
          ]
        }
      ]
    },
    {
      "cell_type": "code",
      "metadata": {
        "colab": {
          "base_uri": "https://localhost:8080/"
        },
        "id": "Vl3Eud-8JYQx",
        "outputId": "89ddb3f3-f24e-4988-f7ff-953a5abb1f13"
      },
      "source": [
        "list2 = [('태후', '채연'), ('채연', '태순'), ('태순', '태후')]\n",
        "for (a,b) in list2:\n",
        "  print(a + b) \n",
        "  # (a, b) = ('채연', '태후') 원리"
      ],
      "execution_count": 28,
      "outputs": [
        {
          "output_type": "stream",
          "name": "stdout",
          "text": [
            "태후채연\n",
            "채연태순\n",
            "태순태후\n"
          ]
        }
      ]
    },
    {
      "cell_type": "code",
      "metadata": {
        "colab": {
          "base_uri": "https://localhost:8080/"
        },
        "id": "2ALiiI6oKHre",
        "outputId": "d2d8762a-c644-4de4-8f63-1b06fed07136"
      },
      "source": [
        "점수 = [90, 25, 67, 45, 80]\n",
        "\n",
        "number = 0\n",
        "for k in 점수:\n",
        "  number = number + 1\n",
        "  if k >= 60:\n",
        "    print('%d번 학생은 합격입니다.' % number)\n",
        "  else:\n",
        "    print('%d번 학생은 불합격입니다.' % number)\n",
        "    "
      ],
      "execution_count": 31,
      "outputs": [
        {
          "output_type": "stream",
          "name": "stdout",
          "text": [
            "1번 학생은 합격입니다.\n",
            "2번 학생은 불합격입니다.\n",
            "3번 학생은 합격입니다.\n",
            "4번 학생은 불합격입니다.\n",
            "5번 학생은 합격입니다.\n"
          ]
        }
      ]
    },
    {
      "cell_type": "code",
      "metadata": {
        "colab": {
          "base_uri": "https://localhost:8080/"
        },
        "id": "aqxdkPYxJ-Xm",
        "outputId": "d79ffc56-3773-4b28-a850-d8d9e714c03a"
      },
      "source": [
        "점수 = [90, 25, 67, 45, 80]\n",
        "number = 0\n",
        "for k in 점수:\n",
        "  number = number + 1\n",
        "  if k < 60:\n",
        "    continue\n",
        "  print('%d번 학생은 합격입니다. 축하합니다.' % number)\n"
      ],
      "execution_count": 33,
      "outputs": [
        {
          "output_type": "stream",
          "name": "stdout",
          "text": [
            "1번 학생은 합격입니다. 축하합니다.\n",
            "3번 학생은 합격입니다. 축하합니다.\n",
            "5번 학생은 합격입니다. 축하합니다.\n"
          ]
        }
      ]
    },
    {
      "cell_type": "markdown",
      "metadata": {
        "id": "ZGM_OgdhOB82"
      },
      "source": [
        "for문 - range함수"
      ]
    },
    {
      "cell_type": "code",
      "metadata": {
        "colab": {
          "base_uri": "https://localhost:8080/"
        },
        "id": "99rU2MUNMhby",
        "outputId": "b9b0aa9f-170a-46c9-d3bf-c16634fe9589"
      },
      "source": [
        "sum = 0\n",
        "for k in range(1,11): # 1~10까지\n",
        "  sum = sum + k\n",
        "print(sum)"
      ],
      "execution_count": 34,
      "outputs": [
        {
          "output_type": "stream",
          "name": "stdout",
          "text": [
            "55\n"
          ]
        }
      ]
    },
    {
      "cell_type": "code",
      "metadata": {
        "colab": {
          "base_uri": "https://localhost:8080/"
        },
        "id": "NMlI-gBgNER5",
        "outputId": "f6a70bde-a06c-485d-e125-ba1b2d0d8304"
      },
      "source": [
        "점수 = [90, 25, 67, 45, 80]\n",
        "for number in range(len(점수)): #range(5): 0부터 4까지\n",
        "  if 점수[number] < 60:\n",
        "    continue\n",
        "  print('%d번 학생은 합격입니다. 축하합니다.' % (number + 1))\n"
      ],
      "execution_count": 35,
      "outputs": [
        {
          "output_type": "stream",
          "name": "stdout",
          "text": [
            "1번 학생은 합격입니다. 축하합니다.\n",
            "3번 학생은 합격입니다. 축하합니다.\n",
            "5번 학생은 합격입니다. 축하합니다.\n"
          ]
        }
      ]
    },
    {
      "cell_type": "code",
      "metadata": {
        "colab": {
          "base_uri": "https://localhost:8080/"
        },
        "id": "-eXjzlv_O9e8",
        "outputId": "64c238bc-7691-41e9-b065-43d042c22a66"
      },
      "source": [
        "for k in range(2,10):\n",
        "  for l in range(1,10):\n",
        "    print(k * l, end = \" \")\n",
        "  print('') #다음줄 동작 지시(아무것도 없으므로 인덴트만 된다.)"
      ],
      "execution_count": 43,
      "outputs": [
        {
          "output_type": "stream",
          "name": "stdout",
          "text": [
            "2 4 6 8 10 12 14 16 18 \n",
            "3 6 9 12 15 18 21 24 27 \n",
            "4 8 12 16 20 24 28 32 36 \n",
            "5 10 15 20 25 30 35 40 45 \n",
            "6 12 18 24 30 36 42 48 54 \n",
            "7 14 21 28 35 42 49 56 63 \n",
            "8 16 24 32 40 48 56 64 72 \n",
            "9 18 27 36 45 54 63 72 81 \n"
          ]
        }
      ]
    },
    {
      "cell_type": "code",
      "metadata": {
        "id": "lRwvcLDLRCeP"
      },
      "source": [
        "list comprehension(리스트 내포)"
      ],
      "execution_count": null,
      "outputs": []
    },
    {
      "cell_type": "code",
      "metadata": {
        "colab": {
          "base_uri": "https://localhost:8080/"
        },
        "id": "a3Zh8yNdQ_p_",
        "outputId": "32daddac-2d2f-4f63-d613-eed301912258"
      },
      "source": [
        "a = [1,2,3,4]\n",
        "result = []\n",
        "for k in a:\n",
        "  result.append(k*3)\n",
        "\n",
        "print(result)"
      ],
      "execution_count": 44,
      "outputs": [
        {
          "output_type": "stream",
          "name": "stdout",
          "text": [
            "[3, 6, 9, 12]\n"
          ]
        }
      ]
    },
    {
      "cell_type": "code",
      "metadata": {
        "colab": {
          "base_uri": "https://localhost:8080/"
        },
        "id": "XwJ4EmbERZPT",
        "outputId": "d3397163-996d-478c-c165-9b2be5b69a4d"
      },
      "source": [
        "a = [1,2,3,4]\n",
        "result = [k * 3 for k in a]\n",
        "print(result)  "
      ],
      "execution_count": 45,
      "outputs": [
        {
          "output_type": "stream",
          "name": "stdout",
          "text": [
            "[3, 6, 9, 12]\n"
          ]
        }
      ]
    },
    {
      "cell_type": "code",
      "metadata": {
        "colab": {
          "base_uri": "https://localhost:8080/"
        },
        "id": "3a_BwXwHRm2a",
        "outputId": "680ac0c3-b2d1-4fc9-8f9a-d31336e55163"
      },
      "source": [
        "#list comprehension + 조건부 표현\n",
        "a = [1,2,3,4]\n",
        "result = [k * 3 for k in a if k % 2 == 0]\n",
        "print(result)"
      ],
      "execution_count": 46,
      "outputs": [
        {
          "output_type": "stream",
          "name": "stdout",
          "text": [
            "[6, 12]\n"
          ]
        }
      ]
    },
    {
      "cell_type": "code",
      "metadata": {
        "colab": {
          "base_uri": "https://localhost:8080/"
        },
        "id": "PtHtVODfR5Al",
        "outputId": "0371add8-bfc8-4e50-c9d1-925cd20630ba"
      },
      "source": [
        "multiple = [x * y for x in range (2,10)\n",
        "                  for y in range (1,10)]\n",
        "print(multiple)"
      ],
      "execution_count": 48,
      "outputs": [
        {
          "output_type": "stream",
          "name": "stdout",
          "text": [
            "[2, 4, 6, 8, 10, 12, 14, 16, 18, 3, 6, 9, 12, 15, 18, 21, 24, 27, 4, 8, 12, 16, 20, 24, 28, 32, 36, 5, 10, 15, 20, 25, 30, 35, 40, 45, 6, 12, 18, 24, 30, 36, 42, 48, 54, 7, 14, 21, 28, 35, 42, 49, 56, 63, 8, 16, 24, 32, 40, 48, 56, 64, 72, 9, 18, 27, 36, 45, 54, 63, 72, 81]\n"
          ]
        }
      ]
    },
    {
      "cell_type": "code",
      "metadata": {
        "colab": {
          "base_uri": "https://localhost:8080/"
        },
        "id": "r_BSJ2sSTBXu",
        "outputId": "a1121a7e-7691-4668-a6e6-cf01d582d623"
      },
      "source": [
        "# 1~1000 자연수 중 3의 배수의 합\n",
        "k = 1\n",
        "합 = 0\n",
        "while k <= 1000:\n",
        "  if k % 3 == 0:\n",
        "    합 = 합 + k\n",
        "  k = k + 1 # while 구문- k값 계속 업데이트 필요! \n",
        "\n",
        "print(합)"
      ],
      "execution_count": 78,
      "outputs": [
        {
          "output_type": "stream",
          "name": "stdout",
          "text": [
            "166833\n"
          ]
        }
      ]
    },
    {
      "cell_type": "code",
      "metadata": {
        "colab": {
          "base_uri": "https://localhost:8080/"
        },
        "id": "BWRKJGOhVzia",
        "outputId": "5d5d9baf-2fd3-484b-f40f-bce4e9bd3891"
      },
      "source": [
        "a = ''\n",
        "while len(a) < 5 :\n",
        "  a = a + '*'\n",
        "  print(a)"
      ],
      "execution_count": 64,
      "outputs": [
        {
          "output_type": "stream",
          "name": "stdout",
          "text": [
            "*\n",
            "**\n",
            "***\n",
            "****\n",
            "*****\n"
          ]
        }
      ]
    },
    {
      "cell_type": "code",
      "metadata": {
        "colab": {
          "base_uri": "https://localhost:8080/"
        },
        "id": "OegHy4-ngrNH",
        "outputId": "3007d48c-34d0-4cfd-a9a9-379e81bb4f58"
      },
      "source": [
        "#또다른 방법\n",
        "a = 0\n",
        "while True:\n",
        "  a = a + 1\n",
        "  if a > 5: break\n",
        "  print('*' * a)"
      ],
      "execution_count": 80,
      "outputs": [
        {
          "output_type": "stream",
          "name": "stdout",
          "text": [
            "*\n",
            "**\n",
            "***\n",
            "****\n",
            "*****\n"
          ]
        }
      ]
    }
  ]
}