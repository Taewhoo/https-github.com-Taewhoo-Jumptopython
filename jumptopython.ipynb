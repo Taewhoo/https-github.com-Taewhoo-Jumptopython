{
  "nbformat": 4,
  "nbformat_minor": 0,
  "metadata": {
    "colab": {
      "name": "jumptopython.ipynb",
      "provenance": [],
      "collapsed_sections": [],
      "authorship_tag": "ABX9TyP8fKJdPnTTbStb08+GtiBb",
      "include_colab_link": true
    },
    "kernelspec": {
      "name": "python3",
      "display_name": "Python 3"
    },
    "language_info": {
      "name": "python"
    }
  },
  "cells": [
    {
      "cell_type": "markdown",
      "metadata": {
        "id": "view-in-github",
        "colab_type": "text"
      },
      "source": [
        "<a href=\"https://colab.research.google.com/github/Taewhoo/https-github.com-Taewhoo-Jumptopython/blob/main/jumptopython.ipynb\" target=\"_parent\"><img src=\"https://colab.research.google.com/assets/colab-badge.svg\" alt=\"Open In Colab\"/></a>"
      ]
    },
    {
      "cell_type": "code",
      "metadata": {
        "colab": {
          "base_uri": "https://localhost:8080/"
        },
        "id": "aRcrYf_lEh-m",
        "outputId": "4b9abf26-2c6c-425f-b66c-ed984189643b"
      },
      "source": [
        "a / b"
      ],
      "execution_count": null,
      "outputs": [
        {
          "output_type": "execute_result",
          "data": {
            "text/plain": [
              "0.75"
            ]
          },
          "metadata": {},
          "execution_count": 15
        }
      ]
    },
    {
      "cell_type": "code",
      "metadata": {
        "colab": {
          "base_uri": "https://localhost:8080/"
        },
        "id": "SsiJD2nyEkRT",
        "outputId": "8aa01446-b5de-4558-f6af-bcf70f7202ed"
      },
      "source": [
        "a ** b"
      ],
      "execution_count": null,
      "outputs": [
        {
          "output_type": "execute_result",
          "data": {
            "text/plain": [
              "81"
            ]
          },
          "metadata": {},
          "execution_count": 16
        }
      ]
    },
    {
      "cell_type": "code",
      "metadata": {
        "colab": {
          "base_uri": "https://localhost:8080/"
        },
        "id": "iR0GHUBiEm1b",
        "outputId": "75bf0e96-1226-4677-cee1-307bd721f21d"
      },
      "source": [
        "a // b"
      ],
      "execution_count": null,
      "outputs": [
        {
          "output_type": "execute_result",
          "data": {
            "text/plain": [
              "0"
            ]
          },
          "metadata": {},
          "execution_count": 17
        }
      ]
    },
    {
      "cell_type": "markdown",
      "metadata": {
        "id": "2AsJeo-yNxOa"
      },
      "source": [
        "백슬래쉬"
      ]
    },
    {
      "cell_type": "code",
      "metadata": {
        "id": "tPNYE-1OF5cT"
      },
      "source": [
        "food = 'Python\\'s favorite food is perl'"
      ],
      "execution_count": null,
      "outputs": []
    },
    {
      "cell_type": "code",
      "metadata": {
        "id": "_wVcvzepGX6T"
      },
      "source": [
        "say = \"\\\"Python is very easy.\\\" he says.\""
      ],
      "execution_count": null,
      "outputs": []
    },
    {
      "cell_type": "code",
      "metadata": {
        "id": "fE3Xhj7-Gpnj"
      },
      "source": [
        "multiline = \"Life is too short.\\nYou need python.\""
      ],
      "execution_count": null,
      "outputs": []
    },
    {
      "cell_type": "code",
      "metadata": {
        "colab": {
          "base_uri": "https://localhost:8080/"
        },
        "id": "5IuXoKZsGxQq",
        "outputId": "599325cc-9efc-43e2-e061-f763803c3cb0"
      },
      "source": [
        "print(multiline)"
      ],
      "execution_count": null,
      "outputs": [
        {
          "output_type": "stream",
          "name": "stdout",
          "text": [
            "Life is too short.\n",
            "You need python.\n"
          ]
        }
      ]
    },
    {
      "cell_type": "code",
      "metadata": {
        "id": "2Q1wKdbZHGG7"
      },
      "source": [
        "multiline = '''\n",
        "life is too short.\n",
        "you need python.\n",
        "ok.\n",
        "'''\n"
      ],
      "execution_count": null,
      "outputs": []
    },
    {
      "cell_type": "code",
      "metadata": {
        "colab": {
          "base_uri": "https://localhost:8080/"
        },
        "id": "kBw6RBmYHSz5",
        "outputId": "dd148946-ccef-45bf-a03d-f9e6824dd00c"
      },
      "source": [
        "print(multiline)"
      ],
      "execution_count": null,
      "outputs": [
        {
          "output_type": "stream",
          "name": "stdout",
          "text": [
            "\n",
            "life is too short.\n",
            "you need python.\n",
            "ok.\n",
            "\n"
          ]
        }
      ]
    },
    {
      "cell_type": "code",
      "metadata": {
        "id": "h5nVQuFVHY5w"
      },
      "source": [
        "tab = 'lets\\tgo'"
      ],
      "execution_count": null,
      "outputs": []
    },
    {
      "cell_type": "code",
      "metadata": {
        "colab": {
          "base_uri": "https://localhost:8080/"
        },
        "id": "RCV0RspzHijJ",
        "outputId": "ccc9414f-a022-4dc6-c70c-bc16dd075c8c"
      },
      "source": [
        "print(tab)"
      ],
      "execution_count": null,
      "outputs": [
        {
          "output_type": "stream",
          "name": "stdout",
          "text": [
            "lets\tgo\n"
          ]
        }
      ]
    },
    {
      "cell_type": "code",
      "metadata": {
        "id": "9QtofRilHni2"
      },
      "source": [
        "backslash = 'i\\\\like\\\\soccer'"
      ],
      "execution_count": null,
      "outputs": []
    },
    {
      "cell_type": "code",
      "metadata": {
        "colab": {
          "base_uri": "https://localhost:8080/"
        },
        "id": "jUDSq2WMHucV",
        "outputId": "6ed458ec-c60f-425c-c400-14bacdad1c8c"
      },
      "source": [
        "print(backslash)"
      ],
      "execution_count": null,
      "outputs": [
        {
          "output_type": "stream",
          "name": "stdout",
          "text": [
            "i\\like\\soccer\n"
          ]
        }
      ]
    },
    {
      "cell_type": "markdown",
      "metadata": {
        "id": "FZPvawjpODLA"
      },
      "source": [
        "인덱싱 & 슬라이싱"
      ]
    },
    {
      "cell_type": "code",
      "metadata": {
        "id": "VnBFU4wvJnLG"
      },
      "source": [
        "a = \"life is short\""
      ],
      "execution_count": null,
      "outputs": []
    },
    {
      "cell_type": "code",
      "metadata": {
        "colab": {
          "base_uri": "https://localhost:8080/"
        },
        "id": "PwP9RTP5Lw-H",
        "outputId": "16be9d97-623b-46b0-f76f-88643cc632b7"
      },
      "source": [
        "len(a)"
      ],
      "execution_count": null,
      "outputs": [
        {
          "output_type": "execute_result",
          "data": {
            "text/plain": [
              "13"
            ]
          },
          "metadata": {},
          "execution_count": 47
        }
      ]
    },
    {
      "cell_type": "code",
      "metadata": {
        "colab": {
          "base_uri": "https://localhost:8080/",
          "height": 35
        },
        "id": "VVAELvlVL2ST",
        "outputId": "58b1d644-ec5f-4757-939b-e344b20ec8a0"
      },
      "source": [
        "a[3] #인덱싱"
      ],
      "execution_count": null,
      "outputs": [
        {
          "output_type": "execute_result",
          "data": {
            "application/vnd.google.colaboratory.intrinsic+json": {
              "type": "string"
            },
            "text/plain": [
              "'e'"
            ]
          },
          "metadata": {},
          "execution_count": 49
        }
      ]
    },
    {
      "cell_type": "code",
      "metadata": {
        "colab": {
          "base_uri": "https://localhost:8080/",
          "height": 35
        },
        "id": "h7EPchrlMb1b",
        "outputId": "baf20209-5199-4d76-f442-dbd071491f7f"
      },
      "source": [
        "a[-1]"
      ],
      "execution_count": null,
      "outputs": [
        {
          "output_type": "execute_result",
          "data": {
            "application/vnd.google.colaboratory.intrinsic+json": {
              "type": "string"
            },
            "text/plain": [
              "'t'"
            ]
          },
          "metadata": {},
          "execution_count": 50
        }
      ]
    },
    {
      "cell_type": "code",
      "metadata": {
        "colab": {
          "base_uri": "https://localhost:8080/",
          "height": 35
        },
        "id": "UYefUOJvNJ2N",
        "outputId": "ecebe7ed-cfff-4410-b69e-4512a0adfffb"
      },
      "source": [
        "a[0:3] # 끝번호 이전에서 잘린다."
      ],
      "execution_count": null,
      "outputs": [
        {
          "output_type": "execute_result",
          "data": {
            "application/vnd.google.colaboratory.intrinsic+json": {
              "type": "string"
            },
            "text/plain": [
              "'lif'"
            ]
          },
          "metadata": {},
          "execution_count": 52
        }
      ]
    },
    {
      "cell_type": "code",
      "metadata": {
        "colab": {
          "base_uri": "https://localhost:8080/",
          "height": 35
        },
        "id": "Dj9MtQLBObHZ",
        "outputId": "840a301b-000e-4a2a-edc3-889296f04fcc"
      },
      "source": [
        "a[0:4]"
      ],
      "execution_count": null,
      "outputs": [
        {
          "output_type": "execute_result",
          "data": {
            "application/vnd.google.colaboratory.intrinsic+json": {
              "type": "string"
            },
            "text/plain": [
              "'life'"
            ]
          },
          "metadata": {},
          "execution_count": 53
        }
      ]
    },
    {
      "cell_type": "code",
      "metadata": {
        "colab": {
          "base_uri": "https://localhost:8080/",
          "height": 35
        },
        "id": "YjmNzeu0OduE",
        "outputId": "e007eb30-625a-4940-f787-7eb50014bdb4"
      },
      "source": [
        "a[5:]"
      ],
      "execution_count": null,
      "outputs": [
        {
          "output_type": "execute_result",
          "data": {
            "application/vnd.google.colaboratory.intrinsic+json": {
              "type": "string"
            },
            "text/plain": [
              "'is short'"
            ]
          },
          "metadata": {},
          "execution_count": 54
        }
      ]
    },
    {
      "cell_type": "code",
      "metadata": {
        "colab": {
          "base_uri": "https://localhost:8080/",
          "height": 35
        },
        "id": "w56nAUS0OsMQ",
        "outputId": "2bf3e387-4030-4529-d28e-b823a3ba83ad"
      },
      "source": [
        "a[:4]"
      ],
      "execution_count": null,
      "outputs": [
        {
          "output_type": "execute_result",
          "data": {
            "application/vnd.google.colaboratory.intrinsic+json": {
              "type": "string"
            },
            "text/plain": [
              "'life'"
            ]
          },
          "metadata": {},
          "execution_count": 55
        }
      ]
    },
    {
      "cell_type": "code",
      "metadata": {
        "colab": {
          "base_uri": "https://localhost:8080/",
          "height": 35
        },
        "id": "9S6-BIPEO4Pz",
        "outputId": "81aeaeee-dd1a-436c-d809-72f1d07f4350"
      },
      "source": [
        "a[6:-3]"
      ],
      "execution_count": null,
      "outputs": [
        {
          "output_type": "execute_result",
          "data": {
            "application/vnd.google.colaboratory.intrinsic+json": {
              "type": "string"
            },
            "text/plain": [
              "'s sh'"
            ]
          },
          "metadata": {},
          "execution_count": 58
        }
      ]
    },
    {
      "cell_type": "code",
      "metadata": {
        "id": "QqOiaXPkPOy6"
      },
      "source": [
        "a = '20010331Rainy'"
      ],
      "execution_count": null,
      "outputs": []
    },
    {
      "cell_type": "code",
      "metadata": {
        "id": "a9EW2EEaW_CX"
      },
      "source": [
        "date = a[:8]"
      ],
      "execution_count": null,
      "outputs": []
    },
    {
      "cell_type": "code",
      "metadata": {
        "id": "RzGuVi6lXFb1"
      },
      "source": [
        "weather = a[8:]"
      ],
      "execution_count": null,
      "outputs": []
    },
    {
      "cell_type": "code",
      "metadata": {
        "colab": {
          "base_uri": "https://localhost:8080/",
          "height": 35
        },
        "id": "y3IEgJbWXJZn",
        "outputId": "f56f2517-e160-45fd-9a4e-cfd52a07d8e0"
      },
      "source": [
        "date"
      ],
      "execution_count": null,
      "outputs": [
        {
          "output_type": "execute_result",
          "data": {
            "application/vnd.google.colaboratory.intrinsic+json": {
              "type": "string"
            },
            "text/plain": [
              "'20010331'"
            ]
          },
          "metadata": {},
          "execution_count": 62
        }
      ]
    },
    {
      "cell_type": "code",
      "metadata": {
        "colab": {
          "base_uri": "https://localhost:8080/",
          "height": 35
        },
        "id": "HfHUQq3uXK0Y",
        "outputId": "c1a55ade-090e-4556-d07f-bc2507931ed5"
      },
      "source": [
        "weather"
      ],
      "execution_count": null,
      "outputs": [
        {
          "output_type": "execute_result",
          "data": {
            "application/vnd.google.colaboratory.intrinsic+json": {
              "type": "string"
            },
            "text/plain": [
              "'Rainy'"
            ]
          },
          "metadata": {},
          "execution_count": 64
        }
      ]
    },
    {
      "cell_type": "markdown",
      "metadata": {
        "id": "2NzmbMqyX5Wv"
      },
      "source": [
        "문자열은 요소값만 떼어내어 변경 불가. (a[1] = 'y')\n",
        "-> 슬라이싱 활용"
      ]
    },
    {
      "cell_type": "code",
      "metadata": {
        "id": "GfC-1ANdXa0A"
      },
      "source": [
        "a = 'pithon' "
      ],
      "execution_count": null,
      "outputs": []
    },
    {
      "cell_type": "code",
      "metadata": {
        "colab": {
          "base_uri": "https://localhost:8080/",
          "height": 35
        },
        "id": "29vDp3ZIXnZP",
        "outputId": "53ab1c28-7d19-4406-e4e1-5f14d10996e7"
      },
      "source": [
        "a[:1]"
      ],
      "execution_count": null,
      "outputs": [
        {
          "output_type": "execute_result",
          "data": {
            "application/vnd.google.colaboratory.intrinsic+json": {
              "type": "string"
            },
            "text/plain": [
              "'p'"
            ]
          },
          "metadata": {},
          "execution_count": 66
        }
      ]
    },
    {
      "cell_type": "code",
      "metadata": {
        "colab": {
          "base_uri": "https://localhost:8080/",
          "height": 35
        },
        "id": "IClkrO8aXuFS",
        "outputId": "f9fad03a-b8e9-4e2a-82b9-3bacaafb7f28"
      },
      "source": [
        "a[2:]"
      ],
      "execution_count": null,
      "outputs": [
        {
          "output_type": "execute_result",
          "data": {
            "application/vnd.google.colaboratory.intrinsic+json": {
              "type": "string"
            },
            "text/plain": [
              "'thon'"
            ]
          },
          "metadata": {},
          "execution_count": 67
        }
      ]
    },
    {
      "cell_type": "code",
      "metadata": {
        "colab": {
          "base_uri": "https://localhost:8080/",
          "height": 35
        },
        "id": "ca42UHo3XwFs",
        "outputId": "cc0918e8-ee28-48d0-9194-fef31cfd8fb7"
      },
      "source": [
        "a[:1] + 'y' + a[2:]"
      ],
      "execution_count": null,
      "outputs": [
        {
          "output_type": "execute_result",
          "data": {
            "application/vnd.google.colaboratory.intrinsic+json": {
              "type": "string"
            },
            "text/plain": [
              "'python'"
            ]
          },
          "metadata": {},
          "execution_count": 70
        }
      ]
    },
    {
      "cell_type": "markdown",
      "metadata": {
        "id": "GQVQErxPYcBh"
      },
      "source": [
        "문자열 포매팅 : 문자열 내 값 삽입"
      ]
    },
    {
      "cell_type": "code",
      "metadata": {
        "colab": {
          "base_uri": "https://localhost:8080/",
          "height": 35
        },
        "id": "73EX_g5PYaqW",
        "outputId": "7384c697-5db4-42d3-e9ed-1b804f2f4481"
      },
      "source": [
        "\"I eat %d apples.\" % 3 # %d,s: 문자열 포맷 코드"
      ],
      "execution_count": null,
      "outputs": [
        {
          "output_type": "execute_result",
          "data": {
            "application/vnd.google.colaboratory.intrinsic+json": {
              "type": "string"
            },
            "text/plain": [
              "'I eat 3 apples.'"
            ]
          },
          "metadata": {},
          "execution_count": 71
        }
      ]
    },
    {
      "cell_type": "code",
      "metadata": {
        "colab": {
          "base_uri": "https://localhost:8080/",
          "height": 35
        },
        "id": "3RT3-rG1Y3j9",
        "outputId": "28d7f2ee-c078-481b-b756-0bdc7f78f671"
      },
      "source": [
        "\"I eat %s apples.\" % \"five\""
      ],
      "execution_count": null,
      "outputs": [
        {
          "output_type": "execute_result",
          "data": {
            "application/vnd.google.colaboratory.intrinsic+json": {
              "type": "string"
            },
            "text/plain": [
              "'I eat five apples.'"
            ]
          },
          "metadata": {},
          "execution_count": 75
        }
      ]
    },
    {
      "cell_type": "code",
      "metadata": {
        "id": "sXF7dyxEa_DW"
      },
      "source": [
        "number = 3"
      ],
      "execution_count": null,
      "outputs": []
    },
    {
      "cell_type": "code",
      "metadata": {
        "colab": {
          "base_uri": "https://localhost:8080/",
          "height": 35
        },
        "id": "rT4EKSImbP8O",
        "outputId": "f3a164c2-9840-46f9-bf11-7fc9f853b0ee"
      },
      "source": [
        "'I eat %d apples.' % number"
      ],
      "execution_count": null,
      "outputs": [
        {
          "output_type": "execute_result",
          "data": {
            "application/vnd.google.colaboratory.intrinsic+json": {
              "type": "string"
            },
            "text/plain": [
              "'I eat 3 apples.'"
            ]
          },
          "metadata": {},
          "execution_count": 78
        }
      ]
    },
    {
      "cell_type": "code",
      "metadata": {
        "colab": {
          "base_uri": "https://localhost:8080/",
          "height": 35
        },
        "id": "SCwZ3u8UbY8u",
        "outputId": "3e9f193d-bba9-4c0e-8097-4ac8e30c49d3"
      },
      "source": [
        "'I ate %d apples, so I was sick for %s days.' % (5,'five')"
      ],
      "execution_count": null,
      "outputs": [
        {
          "output_type": "execute_result",
          "data": {
            "application/vnd.google.colaboratory.intrinsic+json": {
              "type": "string"
            },
            "text/plain": [
              "'I ate 5 apples, so I was sick for five days.'"
            ]
          },
          "metadata": {},
          "execution_count": 82
        }
      ]
    },
    {
      "cell_type": "markdown",
      "metadata": {
        "id": "VfLtzolzdLJZ"
      },
      "source": [
        "%s : 숫자를 넣어도 문자로 알아서 바꿔준다."
      ]
    },
    {
      "cell_type": "code",
      "metadata": {
        "colab": {
          "base_uri": "https://localhost:8080/",
          "height": 35
        },
        "id": "R7P04MUJcqVY",
        "outputId": "e86f09ec-8e35-474a-8948-500f31d5ab36"
      },
      "source": [
        "\"Error is %d%%\" % 90 #포맷 코드와 % 같이 쓸 경우, %%처럼 두번 써야 한다."
      ],
      "execution_count": null,
      "outputs": [
        {
          "output_type": "execute_result",
          "data": {
            "application/vnd.google.colaboratory.intrinsic+json": {
              "type": "string"
            },
            "text/plain": [
              "'Error is 90%'"
            ]
          },
          "metadata": {},
          "execution_count": 83
        }
      ]
    },
    {
      "cell_type": "code",
      "metadata": {
        "id": "4yNjFq-dhaPx"
      },
      "source": [
        ""
      ],
      "execution_count": null,
      "outputs": []
    },
    {
      "cell_type": "markdown",
      "metadata": {
        "id": "x7MEvdv-kVUa"
      },
      "source": [
        "포맷코드 + 숫자"
      ]
    },
    {
      "cell_type": "code",
      "metadata": {
        "colab": {
          "base_uri": "https://localhost:8080/",
          "height": 35
        },
        "id": "rCfEiLL8ki-9",
        "outputId": "558454cf-f1a6-4500-e689-e9c6766eef40"
      },
      "source": [
        "\"%10s\" % 'hi' #10칸 중 오른쪽부터 정렬 입력"
      ],
      "execution_count": null,
      "outputs": [
        {
          "output_type": "execute_result",
          "data": {
            "application/vnd.google.colaboratory.intrinsic+json": {
              "type": "string"
            },
            "text/plain": [
              "'        hi'"
            ]
          },
          "metadata": {},
          "execution_count": 84
        }
      ]
    },
    {
      "cell_type": "code",
      "metadata": {
        "colab": {
          "base_uri": "https://localhost:8080/",
          "height": 35
        },
        "id": "X4hy3Aovkw7A",
        "outputId": "1d0a9f8c-4471-4f45-edd6-cfde802b2eb3"
      },
      "source": [
        "\"%-10s\" % 'hi'"
      ],
      "execution_count": null,
      "outputs": [
        {
          "output_type": "execute_result",
          "data": {
            "application/vnd.google.colaboratory.intrinsic+json": {
              "type": "string"
            },
            "text/plain": [
              "'hi        '"
            ]
          },
          "metadata": {},
          "execution_count": 86
        }
      ]
    },
    {
      "cell_type": "code",
      "metadata": {
        "colab": {
          "base_uri": "https://localhost:8080/",
          "height": 35
        },
        "id": "3tMSkumgluio",
        "outputId": "bd5b4011-9035-4928-ca47-87fb02113842"
      },
      "source": [
        "\"%-10sjane\" % 'hi'"
      ],
      "execution_count": null,
      "outputs": [
        {
          "output_type": "execute_result",
          "data": {
            "application/vnd.google.colaboratory.intrinsic+json": {
              "type": "string"
            },
            "text/plain": [
              "'hi        jane'"
            ]
          },
          "metadata": {},
          "execution_count": 89
        }
      ]
    },
    {
      "cell_type": "code",
      "metadata": {
        "colab": {
          "base_uri": "https://localhost:8080/",
          "height": 35
        },
        "id": "NG11v_Ybl9rZ",
        "outputId": "4d9abe18-ed1b-4099-b399-a628502548e9"
      },
      "source": [
        "\"%10.3f\" % 3.144546"
      ],
      "execution_count": null,
      "outputs": [
        {
          "output_type": "execute_result",
          "data": {
            "application/vnd.google.colaboratory.intrinsic+json": {
              "type": "string"
            },
            "text/plain": [
              "'     3.145'"
            ]
          },
          "metadata": {},
          "execution_count": 93
        }
      ]
    },
    {
      "cell_type": "code",
      "metadata": {
        "colab": {
          "base_uri": "https://localhost:8080/",
          "height": 35
        },
        "id": "Cwv8Vldrnwt1",
        "outputId": "1abf5bff-fb4c-4ed1-a7e5-39bb9bf0dcb2"
      },
      "source": [
        "'%-10.3f' % 3.143124"
      ],
      "execution_count": null,
      "outputs": [
        {
          "output_type": "execute_result",
          "data": {
            "application/vnd.google.colaboratory.intrinsic+json": {
              "type": "string"
            },
            "text/plain": [
              "'3.143     '"
            ]
          },
          "metadata": {},
          "execution_count": 95
        }
      ]
    },
    {
      "cell_type": "markdown",
      "metadata": {
        "id": "r9ODtXq3n9jo"
      },
      "source": [
        "format 함수"
      ]
    },
    {
      "cell_type": "code",
      "metadata": {
        "colab": {
          "base_uri": "https://localhost:8080/",
          "height": 35
        },
        "id": "hEaJFp2Kn7FF",
        "outputId": "b62cc16d-941e-4f1c-e5da-b0d9c974dd9e"
      },
      "source": [
        "'I ate {0} apples'.format('five')"
      ],
      "execution_count": null,
      "outputs": [
        {
          "output_type": "execute_result",
          "data": {
            "application/vnd.google.colaboratory.intrinsic+json": {
              "type": "string"
            },
            "text/plain": [
              "'I ate five apples'"
            ]
          },
          "metadata": {},
          "execution_count": 96
        }
      ]
    },
    {
      "cell_type": "code",
      "metadata": {
        "colab": {
          "base_uri": "https://localhost:8080/",
          "height": 35
        },
        "id": "LK9RrJ4uoPeh",
        "outputId": "2617a0b6-797e-4399-8a00-791ce6a632e6"
      },
      "source": [
        "number = 10\n",
        "day = 'three'\n",
        "'I ate {0} apples, so I was sick for {1} days'.format(number, day)"
      ],
      "execution_count": null,
      "outputs": [
        {
          "output_type": "execute_result",
          "data": {
            "application/vnd.google.colaboratory.intrinsic+json": {
              "type": "string"
            },
            "text/plain": [
              "'I ate 10 apples, so I was sick for three days'"
            ]
          },
          "metadata": {},
          "execution_count": 97
        }
      ]
    },
    {
      "cell_type": "code",
      "metadata": {
        "colab": {
          "base_uri": "https://localhost:8080/",
          "height": 35
        },
        "id": "dlOfqczbpEIf",
        "outputId": "4848d8ad-a398-4b42-8793-b8b79b791211"
      },
      "source": [
        "'I ate {0} apples, so I was sick for {day} days'.format(number, day='three')\n",
        "#인덱스와 이름 혼용 가능"
      ],
      "execution_count": null,
      "outputs": [
        {
          "output_type": "execute_result",
          "data": {
            "application/vnd.google.colaboratory.intrinsic+json": {
              "type": "string"
            },
            "text/plain": [
              "'I ate 10 apples, so I was sick for three days'"
            ]
          },
          "metadata": {},
          "execution_count": 101
        }
      ]
    },
    {
      "cell_type": "code",
      "metadata": {
        "colab": {
          "base_uri": "https://localhost:8080/",
          "height": 35
        },
        "id": "sBuY-6hHpwIs",
        "outputId": "83f8f284-6a1a-432a-de86-5197ff8a9398"
      },
      "source": [
        "'{0:<10}'.format(\"hi\") #0을왼쪽정렬,열자리"
      ],
      "execution_count": null,
      "outputs": [
        {
          "output_type": "execute_result",
          "data": {
            "application/vnd.google.colaboratory.intrinsic+json": {
              "type": "string"
            },
            "text/plain": [
              "'hi        '"
            ]
          },
          "metadata": {},
          "execution_count": 102
        }
      ]
    },
    {
      "cell_type": "code",
      "metadata": {
        "colab": {
          "base_uri": "https://localhost:8080/",
          "height": 35
        },
        "id": "c7E0Yxq2rMsz",
        "outputId": "50bdec43-a04b-4fb7-8fdd-e8ccb03855aa"
      },
      "source": [
        "'{0:>10}'.format('hi')"
      ],
      "execution_count": null,
      "outputs": [
        {
          "output_type": "execute_result",
          "data": {
            "application/vnd.google.colaboratory.intrinsic+json": {
              "type": "string"
            },
            "text/plain": [
              "'        hi'"
            ]
          },
          "metadata": {},
          "execution_count": 103
        }
      ]
    },
    {
      "cell_type": "code",
      "metadata": {
        "colab": {
          "base_uri": "https://localhost:8080/",
          "height": 35
        },
        "id": "jgWSqhVwr69u",
        "outputId": "31de3511-7287-4f36-9bef-87abe1921446"
      },
      "source": [
        "'{0:^5}'.format('hi') #가운데정렬"
      ],
      "execution_count": null,
      "outputs": [
        {
          "output_type": "execute_result",
          "data": {
            "application/vnd.google.colaboratory.intrinsic+json": {
              "type": "string"
            },
            "text/plain": [
              "' hi  '"
            ]
          },
          "metadata": {},
          "execution_count": 106
        }
      ]
    },
    {
      "cell_type": "code",
      "metadata": {
        "colab": {
          "base_uri": "https://localhost:8080/",
          "height": 35
        },
        "id": "vKDGMAJ4si96",
        "outputId": "47b3ba27-a5ac-43cd-efa4-cf347b9faa0a"
      },
      "source": [
        "'{0:!^5}'.format('hi') #0을느낌표로채우고,가운데정렬,5자리"
      ],
      "execution_count": null,
      "outputs": [
        {
          "output_type": "execute_result",
          "data": {
            "application/vnd.google.colaboratory.intrinsic+json": {
              "type": "string"
            },
            "text/plain": [
              "'!hi!!'"
            ]
          },
          "metadata": {},
          "execution_count": 108
        }
      ]
    },
    {
      "cell_type": "code",
      "metadata": {
        "colab": {
          "base_uri": "https://localhost:8080/",
          "height": 35
        },
        "id": "eLg7TObrt4eL",
        "outputId": "27f09ac4-cf65-4537-9096-91d5a25b24df"
      },
      "source": [
        "'%10.3f' % 0.3452112 #소수점 표현 1"
      ],
      "execution_count": null,
      "outputs": [
        {
          "output_type": "execute_result",
          "data": {
            "application/vnd.google.colaboratory.intrinsic+json": {
              "type": "string"
            },
            "text/plain": [
              "'     0.345'"
            ]
          },
          "metadata": {},
          "execution_count": 110
        }
      ]
    },
    {
      "cell_type": "code",
      "metadata": {
        "colab": {
          "base_uri": "https://localhost:8080/",
          "height": 35
        },
        "id": "pHzoBXMDuIPg",
        "outputId": "e74bf50e-8a4b-4fc4-97ec-439dc1af81ba"
      },
      "source": [
        "y = 0.3452112 #소수점 표현 2\n",
        "'{0:>10.3f}'.format(y)\n"
      ],
      "execution_count": null,
      "outputs": [
        {
          "output_type": "execute_result",
          "data": {
            "application/vnd.google.colaboratory.intrinsic+json": {
              "type": "string"
            },
            "text/plain": [
              "'     0.345'"
            ]
          },
          "metadata": {},
          "execution_count": 113
        }
      ]
    },
    {
      "cell_type": "code",
      "metadata": {
        "colab": {
          "base_uri": "https://localhost:8080/",
          "height": 35
        },
        "id": "EwaBBxAKvTfE",
        "outputId": "6827df9e-1e08-43b4-fafd-26f1a2d9a899"
      },
      "source": [
        "'{{ and }}'.format()"
      ],
      "execution_count": null,
      "outputs": [
        {
          "output_type": "execute_result",
          "data": {
            "application/vnd.google.colaboratory.intrinsic+json": {
              "type": "string"
            },
            "text/plain": [
              "'{ and }'"
            ]
          },
          "metadata": {},
          "execution_count": 117
        }
      ]
    },
    {
      "cell_type": "markdown",
      "metadata": {
        "id": "tOFGa41Vv0II"
      },
      "source": [
        "f포매팅"
      ]
    },
    {
      "cell_type": "code",
      "metadata": {
        "colab": {
          "base_uri": "https://localhost:8080/",
          "height": 35
        },
        "id": "Ysp79CHWvz72",
        "outputId": "1890bc7e-2499-42e6-ce72-c8c4d135fb5b"
      },
      "source": [
        "name = \"홍길동\"\n",
        "age = 30\n",
        "\n",
        "f'제 이름은 {name}입니다. 나이는 {age}입니다'"
      ],
      "execution_count": null,
      "outputs": [
        {
          "output_type": "execute_result",
          "data": {
            "application/vnd.google.colaboratory.intrinsic+json": {
              "type": "string"
            },
            "text/plain": [
              "'제 이름은 홍길동입니다. 나이는 30입니다'"
            ]
          },
          "metadata": {},
          "execution_count": 118
        }
      ]
    },
    {
      "cell_type": "code",
      "metadata": {
        "colab": {
          "base_uri": "https://localhost:8080/",
          "height": 35
        },
        "id": "0gNQepiCwa5T",
        "outputId": "39277749-ab3e-4bdf-beec-b23dd008c5cd"
      },
      "source": [
        "age = 30\n",
        "f'나는 내년이면 {age + 1}살이 됩니다.'"
      ],
      "execution_count": null,
      "outputs": [
        {
          "output_type": "execute_result",
          "data": {
            "application/vnd.google.colaboratory.intrinsic+json": {
              "type": "string"
            },
            "text/plain": [
              "'나는 내년이면 31살이 됩니다.'"
            ]
          },
          "metadata": {},
          "execution_count": 119
        }
      ]
    },
    {
      "cell_type": "code",
      "metadata": {
        "colab": {
          "base_uri": "https://localhost:8080/",
          "height": 35
        },
        "id": "k79m6NOIvrvR",
        "outputId": "0e2eda37-8f8b-4ba2-f3a4-044a2ccbb481"
      },
      "source": [
        "d = {'name' : '홍길동', 'age' : 30}\n",
        "f\"나의 이름은 {d['name']}입니다. 나이는 {d['age']}입니다.\""
      ],
      "execution_count": null,
      "outputs": [
        {
          "output_type": "execute_result",
          "data": {
            "application/vnd.google.colaboratory.intrinsic+json": {
              "type": "string"
            },
            "text/plain": [
              "'나의 이름은 홍길동입니다. 나이는 30입니다.'"
            ]
          },
          "metadata": {},
          "execution_count": 124
        }
      ]
    },
    {
      "cell_type": "code",
      "metadata": {
        "colab": {
          "base_uri": "https://localhost:8080/",
          "height": 35
        },
        "id": "3S1AsOQizbew",
        "outputId": "40d5d676-f039-4931-8635-d2a45a134724"
      },
      "source": [
        "f'{\"hi\":!<10}'"
      ],
      "execution_count": null,
      "outputs": [
        {
          "output_type": "execute_result",
          "data": {
            "application/vnd.google.colaboratory.intrinsic+json": {
              "type": "string"
            },
            "text/plain": [
              "'hi!!!!!!!!'"
            ]
          },
          "metadata": {},
          "execution_count": 126
        }
      ]
    },
    {
      "cell_type": "code",
      "metadata": {
        "colab": {
          "base_uri": "https://localhost:8080/",
          "height": 35
        },
        "id": "4-vtlj5FzrWB",
        "outputId": "ef4738ef-b78d-46a3-e32f-6288e4527b17"
      },
      "source": [
        "y = 3.122354\n",
        "f'{y:<10.3f}'"
      ],
      "execution_count": null,
      "outputs": [
        {
          "output_type": "execute_result",
          "data": {
            "application/vnd.google.colaboratory.intrinsic+json": {
              "type": "string"
            },
            "text/plain": [
              "'3.122     '"
            ]
          },
          "metadata": {},
          "execution_count": 129
        }
      ]
    },
    {
      "cell_type": "code",
      "metadata": {
        "colab": {
          "base_uri": "https://localhost:8080/",
          "height": 35
        },
        "id": "fbqY4S980ClD",
        "outputId": "ed559f63-6887-431b-b25d-9488ff4825bf"
      },
      "source": [
        "f'{{and}}'"
      ],
      "execution_count": null,
      "outputs": [
        {
          "output_type": "execute_result",
          "data": {
            "application/vnd.google.colaboratory.intrinsic+json": {
              "type": "string"
            },
            "text/plain": [
              "'{and}'"
            ]
          },
          "metadata": {},
          "execution_count": 29
        }
      ]
    },
    {
      "cell_type": "markdown",
      "metadata": {
        "id": "t8vYydo6PUF1"
      },
      "source": [
        "문자열 관련 함수"
      ]
    },
    {
      "cell_type": "code",
      "metadata": {
        "colab": {
          "base_uri": "https://localhost:8080/"
        },
        "id": "sH3oXKiRPDad",
        "outputId": "186d46ea-9c23-4db2-d3f3-9030d1269e41"
      },
      "source": [
        "a = 'hobby'\n",
        "a.count('b')"
      ],
      "execution_count": null,
      "outputs": [
        {
          "output_type": "execute_result",
          "data": {
            "text/plain": [
              "2"
            ]
          },
          "metadata": {},
          "execution_count": 5
        }
      ]
    },
    {
      "cell_type": "code",
      "metadata": {
        "colab": {
          "base_uri": "https://localhost:8080/"
        },
        "id": "g4UFLft1SARu",
        "outputId": "5858b3cf-ab1e-4e8e-e677-d74949094890"
      },
      "source": [
        "a.find('y') #처음 나온 위치 반환, 없을 시 -1"
      ],
      "execution_count": null,
      "outputs": [
        {
          "output_type": "execute_result",
          "data": {
            "text/plain": [
              "4"
            ]
          },
          "metadata": {},
          "execution_count": 7
        }
      ]
    },
    {
      "cell_type": "code",
      "metadata": {
        "colab": {
          "base_uri": "https://localhost:8080/"
        },
        "id": "xcqegtEXSFa-",
        "outputId": "2b2b7059-de74-440c-b648-2a922023b3ee"
      },
      "source": [
        "a.index('y') #find와 같지만 없을 시 오류"
      ],
      "execution_count": null,
      "outputs": [
        {
          "output_type": "execute_result",
          "data": {
            "text/plain": [
              "4"
            ]
          },
          "metadata": {},
          "execution_count": 8
        }
      ]
    },
    {
      "cell_type": "code",
      "metadata": {
        "colab": {
          "base_uri": "https://localhost:8080/",
          "height": 35
        },
        "id": "fASEKx9FSSg0",
        "outputId": "233ee569-b7d4-4fe1-b9e4-ace3ce7a465a"
      },
      "source": [
        "','.join(a) # 사이사이 끼워넣기"
      ],
      "execution_count": null,
      "outputs": [
        {
          "output_type": "execute_result",
          "data": {
            "application/vnd.google.colaboratory.intrinsic+json": {
              "type": "string"
            },
            "text/plain": [
              "'a,b,c,d'"
            ]
          },
          "metadata": {},
          "execution_count": 18
        }
      ]
    },
    {
      "cell_type": "code",
      "metadata": {
        "colab": {
          "base_uri": "https://localhost:8080/",
          "height": 35
        },
        "id": "t7FUoOC5Sbls",
        "outputId": "dff032c6-15f4-4ea9-89cf-8519f1808b47"
      },
      "source": [
        "'.'.join([\"a\",\"b\",\"c\",\"d\"])"
      ],
      "execution_count": null,
      "outputs": [
        {
          "output_type": "execute_result",
          "data": {
            "application/vnd.google.colaboratory.intrinsic+json": {
              "type": "string"
            },
            "text/plain": [
              "'a.b.c.d'"
            ]
          },
          "metadata": {},
          "execution_count": 19
        }
      ]
    },
    {
      "cell_type": "code",
      "metadata": {
        "colab": {
          "base_uri": "https://localhost:8080/",
          "height": 35
        },
        "id": "cfS3L6avTGND",
        "outputId": "c42effa0-23f3-4bba-c9f0-3293ea94de2d"
      },
      "source": [
        "a = ('hobby')\n",
        "a.upper()\n",
        "a.lower()"
      ],
      "execution_count": null,
      "outputs": [
        {
          "output_type": "execute_result",
          "data": {
            "application/vnd.google.colaboratory.intrinsic+json": {
              "type": "string"
            },
            "text/plain": [
              "'hobby'"
            ]
          },
          "metadata": {},
          "execution_count": 23
        }
      ]
    },
    {
      "cell_type": "code",
      "metadata": {
        "colab": {
          "base_uri": "https://localhost:8080/",
          "height": 35
        },
        "id": "Db59dqs0YmP8",
        "outputId": "95eac901-fe92-45ba-8ece-74cd2aa3d101"
      },
      "source": [
        "a = \"  hobby \"\n",
        "a.lstrip()"
      ],
      "execution_count": null,
      "outputs": [
        {
          "output_type": "execute_result",
          "data": {
            "application/vnd.google.colaboratory.intrinsic+json": {
              "type": "string"
            },
            "text/plain": [
              "'hobby '"
            ]
          },
          "metadata": {},
          "execution_count": 33
        }
      ]
    },
    {
      "cell_type": "code",
      "metadata": {
        "colab": {
          "base_uri": "https://localhost:8080/",
          "height": 35
        },
        "id": "Vaxi1ucAVK0J",
        "outputId": "3643f3d1-b897-41f6-e216-493721c1f23a"
      },
      "source": [
        "a.rstrip()"
      ],
      "execution_count": null,
      "outputs": [
        {
          "output_type": "execute_result",
          "data": {
            "application/vnd.google.colaboratory.intrinsic+json": {
              "type": "string"
            },
            "text/plain": [
              "'  hobby'"
            ]
          },
          "metadata": {},
          "execution_count": 36
        }
      ]
    },
    {
      "cell_type": "code",
      "metadata": {
        "colab": {
          "base_uri": "https://localhost:8080/",
          "height": 35
        },
        "id": "vsXlJatBZGij",
        "outputId": "0cf87853-c4c9-432d-9ec3-33449e043eb4"
      },
      "source": [
        "a.strip()"
      ],
      "execution_count": null,
      "outputs": [
        {
          "output_type": "execute_result",
          "data": {
            "application/vnd.google.colaboratory.intrinsic+json": {
              "type": "string"
            },
            "text/plain": [
              "'hobby'"
            ]
          },
          "metadata": {},
          "execution_count": 37
        }
      ]
    },
    {
      "cell_type": "code",
      "metadata": {
        "colab": {
          "base_uri": "https://localhost:8080/",
          "height": 35
        },
        "id": "vB3pPiD0T2AX",
        "outputId": "c6dfd4e7-29c0-4fda-b4a0-0b6f11b57681"
      },
      "source": [
        "a = \"life is short\"\n",
        "a.replace(\"life\", \"Taewhoo\")"
      ],
      "execution_count": null,
      "outputs": [
        {
          "output_type": "execute_result",
          "data": {
            "application/vnd.google.colaboratory.intrinsic+json": {
              "type": "string"
            },
            "text/plain": [
              "'Taewhoo is short'"
            ]
          },
          "metadata": {},
          "execution_count": 39
        }
      ]
    },
    {
      "cell_type": "code",
      "metadata": {
        "colab": {
          "base_uri": "https://localhost:8080/"
        },
        "id": "waweHWphZjto",
        "outputId": "e7e09dec-1e26-4d30-bdc5-e32c425dd9e3"
      },
      "source": [
        "a = 'life is short'\n",
        "a.split() #split() 공백 시 문자열 내 공백 기준 split"
      ],
      "execution_count": null,
      "outputs": [
        {
          "output_type": "execute_result",
          "data": {
            "text/plain": [
              "['life', 'is', 'short']"
            ]
          },
          "metadata": {},
          "execution_count": 40
        }
      ]
    },
    {
      "cell_type": "code",
      "metadata": {
        "colab": {
          "base_uri": "https://localhost:8080/"
        },
        "id": "QzWEGYf9bk7O",
        "outputId": "6210cd91-19c9-4d7d-dada-95519b4ba34d"
      },
      "source": [
        "a = 'life:is:short' #split(특정 값) 시 특정 값 기준으로 split\n",
        "a.split(':')"
      ],
      "execution_count": null,
      "outputs": [
        {
          "output_type": "execute_result",
          "data": {
            "text/plain": [
              "['life', 'is', 'short']"
            ]
          },
          "metadata": {},
          "execution_count": 43
        }
      ]
    },
    {
      "cell_type": "markdown",
      "metadata": {
        "id": "G_8NoRuAcup9"
      },
      "source": [
        "리스트"
      ]
    },
    {
      "cell_type": "code",
      "metadata": {
        "id": "K2t9Jwejb4KQ"
      },
      "source": [
        "a = [1, 2, '안녕', [3, 4]] # 리스트 안에는 어떤 자료형도 가능"
      ],
      "execution_count": null,
      "outputs": []
    },
    {
      "cell_type": "code",
      "metadata": {
        "colab": {
          "base_uri": "https://localhost:8080/"
        },
        "id": "mybg7SiSc4Ga",
        "outputId": "2cb51c32-282a-477a-f725-3beea16cf238"
      },
      "source": [
        "a[0] + a[1] #인덱싱 가능"
      ],
      "execution_count": null,
      "outputs": [
        {
          "output_type": "execute_result",
          "data": {
            "text/plain": [
              "3"
            ]
          },
          "metadata": {},
          "execution_count": 47
        }
      ]
    },
    {
      "cell_type": "code",
      "metadata": {
        "colab": {
          "base_uri": "https://localhost:8080/"
        },
        "id": "veHvehdLdjLK",
        "outputId": "78214bd1-447e-43be-efa0-fce644c39c97"
      },
      "source": [
        "a[3][1] # 리스트 내 리스트에서 인덱싱"
      ],
      "execution_count": null,
      "outputs": [
        {
          "output_type": "execute_result",
          "data": {
            "text/plain": [
              "4"
            ]
          },
          "metadata": {},
          "execution_count": 50
        }
      ]
    },
    {
      "cell_type": "code",
      "metadata": {
        "colab": {
          "base_uri": "https://localhost:8080/"
        },
        "id": "1w-6q5CVd_50",
        "outputId": "a63a3c24-4065-4185-8918-81956b26b21d"
      },
      "source": [
        "a[3][:2] # 슬라이싱 가능"
      ],
      "execution_count": null,
      "outputs": [
        {
          "output_type": "execute_result",
          "data": {
            "text/plain": [
              "[3, 4]"
            ]
          },
          "metadata": {},
          "execution_count": 54
        }
      ]
    },
    {
      "cell_type": "code",
      "metadata": {
        "colab": {
          "base_uri": "https://localhost:8080/"
        },
        "id": "T4zpbiyyf0NB",
        "outputId": "8cc8db6b-53ae-4e36-e14c-899b9c5f6c16"
      },
      "source": [
        "a = [1,2,3]\n",
        "b = [4,5,6]\n",
        "a + b"
      ],
      "execution_count": null,
      "outputs": [
        {
          "output_type": "execute_result",
          "data": {
            "text/plain": [
              "[1, 2, 3, 4, 5, 6]"
            ]
          },
          "metadata": {},
          "execution_count": 56
        }
      ]
    },
    {
      "cell_type": "code",
      "metadata": {
        "colab": {
          "base_uri": "https://localhost:8080/"
        },
        "id": "zgoOiadMgPmg",
        "outputId": "764e492a-f2cc-4207-82b0-07f6186cf8cb"
      },
      "source": [
        "a * 3"
      ],
      "execution_count": null,
      "outputs": [
        {
          "output_type": "execute_result",
          "data": {
            "text/plain": [
              "[1, 2, 3, 1, 2, 3, 1, 2, 3]"
            ]
          },
          "metadata": {},
          "execution_count": 57
        }
      ]
    },
    {
      "cell_type": "code",
      "metadata": {
        "colab": {
          "base_uri": "https://localhost:8080/"
        },
        "id": "etuo-caHgSfq",
        "outputId": "286f3e6d-a3e0-4737-f92a-c556671f562e"
      },
      "source": [
        "len(a)"
      ],
      "execution_count": null,
      "outputs": [
        {
          "output_type": "execute_result",
          "data": {
            "text/plain": [
              "3"
            ]
          },
          "metadata": {},
          "execution_count": 59
        }
      ]
    },
    {
      "cell_type": "code",
      "metadata": {
        "colab": {
          "base_uri": "https://localhost:8080/"
        },
        "id": "o91OSWwdgZg8",
        "outputId": "e4e90e29-e130-4d0c-b36e-4ece9ce59876"
      },
      "source": [
        "a = [1,2,3]\n",
        "a[1] = 5\n",
        "a     # 리스트 수정"
      ],
      "execution_count": null,
      "outputs": [
        {
          "output_type": "execute_result",
          "data": {
            "text/plain": [
              "[1, 5, 3]"
            ]
          },
          "metadata": {},
          "execution_count": 70
        }
      ]
    },
    {
      "cell_type": "code",
      "metadata": {
        "colab": {
          "base_uri": "https://localhost:8080/",
          "height": 35
        },
        "id": "mQfkkmX3hdNh",
        "outputId": "aeab8fdb-0c60-465c-928c-7059221aaf9a"
      },
      "source": [
        "a = '1,2,3'\n",
        "a.replace('1','5') # 텍스트 수정"
      ],
      "execution_count": null,
      "outputs": [
        {
          "output_type": "execute_result",
          "data": {
            "application/vnd.google.colaboratory.intrinsic+json": {
              "type": "string"
            },
            "text/plain": [
              "'5,2,3'"
            ]
          },
          "metadata": {},
          "execution_count": 74
        }
      ]
    },
    {
      "cell_type": "code",
      "metadata": {
        "colab": {
          "base_uri": "https://localhost:8080/"
        },
        "id": "-ibnmwvvhzrD",
        "outputId": "4a10241b-d304-48f7-fb9b-abb6debd6886"
      },
      "source": [
        "a = [1,2,3]\n",
        "del a[0:2]\n",
        "a"
      ],
      "execution_count": null,
      "outputs": [
        {
          "output_type": "execute_result",
          "data": {
            "text/plain": [
              "[3]"
            ]
          },
          "metadata": {},
          "execution_count": 80
        }
      ]
    },
    {
      "cell_type": "code",
      "metadata": {
        "colab": {
          "base_uri": "https://localhost:8080/"
        },
        "id": "HIXRBQnUjZnZ",
        "outputId": "82734445-fe1c-4f25-b070-a5e3a2020f54"
      },
      "source": [
        "a = [3] \n",
        "a.append(1)\n",
        "a # append : 끝에 추가"
      ],
      "execution_count": null,
      "outputs": [
        {
          "output_type": "execute_result",
          "data": {
            "text/plain": [
              "[3, 1]"
            ]
          },
          "metadata": {},
          "execution_count": 84
        }
      ]
    },
    {
      "cell_type": "code",
      "metadata": {
        "colab": {
          "base_uri": "https://localhost:8080/"
        },
        "id": "TdVoyJbDi341",
        "outputId": "15999aca-1c6b-49a2-ff36-345a51b2701b"
      },
      "source": [
        "a.append([1,2,3])\n",
        "a"
      ],
      "execution_count": null,
      "outputs": [
        {
          "output_type": "execute_result",
          "data": {
            "text/plain": [
              "[3, 1, [1, 2, 3]]"
            ]
          },
          "metadata": {},
          "execution_count": 85
        }
      ]
    },
    {
      "cell_type": "code",
      "metadata": {
        "colab": {
          "base_uri": "https://localhost:8080/"
        },
        "id": "GdyxI6Awk9Rd",
        "outputId": "8302143f-27c2-4ac1-904d-e9f40d33ebbc"
      },
      "source": [
        "a = [1,4,3]\n",
        "a.sort()\n",
        "a "
      ],
      "execution_count": null,
      "outputs": [
        {
          "output_type": "execute_result",
          "data": {
            "text/plain": [
              "[1, 3, 4]"
            ]
          },
          "metadata": {},
          "execution_count": 89
        }
      ]
    },
    {
      "cell_type": "code",
      "metadata": {
        "colab": {
          "base_uri": "https://localhost:8080/"
        },
        "id": "EA42o5aDlK9j",
        "outputId": "1ebec9e0-02e1-48ba-b1ee-ce6c9358b294"
      },
      "source": [
        "a = [1,2,3]\n",
        "a.reverse()\n",
        "a"
      ],
      "execution_count": null,
      "outputs": [
        {
          "output_type": "execute_result",
          "data": {
            "text/plain": [
              "[3, 2, 1]"
            ]
          },
          "metadata": {},
          "execution_count": 96
        }
      ]
    },
    {
      "cell_type": "code",
      "metadata": {
        "colab": {
          "base_uri": "https://localhost:8080/"
        },
        "id": "elCT3kM-lv6B",
        "outputId": "350bd0f4-0b45-4686-8922-56c8a9a619c2"
      },
      "source": [
        "a[2] # 문자열 내 x+1번째 값 반환"
      ],
      "execution_count": null,
      "outputs": [
        {
          "output_type": "execute_result",
          "data": {
            "text/plain": [
              "1"
            ]
          },
          "metadata": {},
          "execution_count": 108
        }
      ]
    },
    {
      "cell_type": "code",
      "metadata": {
        "colab": {
          "base_uri": "https://localhost:8080/"
        },
        "id": "sUjfskWGl5GH",
        "outputId": "13180f66-6faf-4a62-d661-68f346fbf11a"
      },
      "source": [
        "a.index(2) # 값 2의 index"
      ],
      "execution_count": null,
      "outputs": [
        {
          "output_type": "execute_result",
          "data": {
            "text/plain": [
              "1"
            ]
          },
          "metadata": {},
          "execution_count": 106
        }
      ]
    },
    {
      "cell_type": "code",
      "metadata": {
        "colab": {
          "base_uri": "https://localhost:8080/"
        },
        "id": "McbnHXGhl8od",
        "outputId": "c23b2d81-da82-4889-99c9-bde87181f1d9"
      },
      "source": [
        "a = [1,2,3]\n",
        "a.insert(1,4)\n",
        "a #a번째 자리에 b를 대입"
      ],
      "execution_count": null,
      "outputs": [
        {
          "output_type": "execute_result",
          "data": {
            "text/plain": [
              "[1, 4, 2, 3]"
            ]
          },
          "metadata": {},
          "execution_count": 113
        }
      ]
    },
    {
      "cell_type": "code",
      "metadata": {
        "colab": {
          "base_uri": "https://localhost:8080/"
        },
        "id": "hguLdYwQnMfs",
        "outputId": "89a67b39-545b-49b7-a768-4669057b9755"
      },
      "source": [
        "a = [1,2,3,4,1]\n",
        "a.remove(1)\n",
        "a #첫 x만 remove"
      ],
      "execution_count": null,
      "outputs": [
        {
          "output_type": "execute_result",
          "data": {
            "text/plain": [
              "[2, 3, 4, 1]"
            ]
          },
          "metadata": {},
          "execution_count": 120
        }
      ]
    },
    {
      "cell_type": "code",
      "metadata": {
        "colab": {
          "base_uri": "https://localhost:8080/"
        },
        "id": "rfjhAYmVoT3L",
        "outputId": "b595b03f-7c15-4712-bf79-d81affece3be"
      },
      "source": [
        "a = [1,2,3,4,5]\n",
        "a.pop(3) #pop : x번째!!! 값 보여주고 리스트에서 빠짐"
      ],
      "execution_count": null,
      "outputs": [
        {
          "output_type": "execute_result",
          "data": {
            "text/plain": [
              "4"
            ]
          },
          "metadata": {},
          "execution_count": 121
        }
      ]
    },
    {
      "cell_type": "code",
      "metadata": {
        "colab": {
          "base_uri": "https://localhost:8080/"
        },
        "id": "VEn34-Wbomql",
        "outputId": "d91d5f54-dd56-47c4-e21f-727e7760257a"
      },
      "source": [
        "a"
      ],
      "execution_count": null,
      "outputs": [
        {
          "output_type": "execute_result",
          "data": {
            "text/plain": [
              "[1, 2, 3, 5]"
            ]
          },
          "metadata": {},
          "execution_count": 123
        }
      ]
    },
    {
      "cell_type": "code",
      "metadata": {
        "colab": {
          "base_uri": "https://localhost:8080/"
        },
        "id": "muxuR9zno48d",
        "outputId": "a442619c-fb77-46f5-f76b-c5e6d80a4ed5"
      },
      "source": [
        "a = [1,2,3,4,5]\n",
        "a.count(2)"
      ],
      "execution_count": null,
      "outputs": [
        {
          "output_type": "execute_result",
          "data": {
            "text/plain": [
              "1"
            ]
          },
          "metadata": {},
          "execution_count": 128
        }
      ]
    },
    {
      "cell_type": "code",
      "metadata": {
        "colab": {
          "base_uri": "https://localhost:8080/"
        },
        "id": "6L0-QDGircdX",
        "outputId": "f869eb60-a464-42bb-96c4-330675f7c9db"
      },
      "source": [
        "a = [1,2,3]\n",
        "a.append(4)\n",
        "a"
      ],
      "execution_count": null,
      "outputs": [
        {
          "output_type": "execute_result",
          "data": {
            "text/plain": [
              "[1, 2, 3, 4]"
            ]
          },
          "metadata": {},
          "execution_count": 130
        }
      ]
    },
    {
      "cell_type": "code",
      "metadata": {
        "colab": {
          "base_uri": "https://localhost:8080/"
        },
        "id": "pccSumIHrgKi",
        "outputId": "ec2d2b05-1450-49d5-89e2-390c77152d8f"
      },
      "source": [
        "a = [1,2,3,4]\n",
        "a.extend([5,6])\n",
        "a # append - 어떤 자료형도 가능 / extend - list형만 가능"
      ],
      "execution_count": null,
      "outputs": [
        {
          "output_type": "execute_result",
          "data": {
            "text/plain": [
              "[1, 2, 3, 4, 5, 6]"
            ]
          },
          "metadata": {},
          "execution_count": 132
        }
      ]
    },
    {
      "cell_type": "code",
      "metadata": {
        "colab": {
          "base_uri": "https://localhost:8080/"
        },
        "id": "v-WeoBm4ry7i",
        "outputId": "b675e7b5-4ad0-49c9-b584-6cf79da3403d"
      },
      "source": [
        "a += [7,8]\n",
        "a"
      ],
      "execution_count": null,
      "outputs": [
        {
          "output_type": "execute_result",
          "data": {
            "text/plain": [
              "[1, 2, 3, 4, 5, 6, 7, 8]"
            ]
          },
          "metadata": {},
          "execution_count": 134
        }
      ]
    },
    {
      "cell_type": "markdown",
      "metadata": {
        "id": "c-6bi2c0vJjp"
      },
      "source": [
        "튜플 : 리스트와는 다르게 ***값을 변화시킬 수 없다***."
      ]
    },
    {
      "cell_type": "code",
      "metadata": {
        "id": "rU-HJ1TKvLK-"
      },
      "source": [
        "t1 = (1)"
      ],
      "execution_count": null,
      "outputs": []
    },
    {
      "cell_type": "code",
      "metadata": {
        "colab": {
          "base_uri": "https://localhost:8080/"
        },
        "id": "2EQdsQzQvfV_",
        "outputId": "5d8be272-5020-45ad-abc5-0b388f858b81"
      },
      "source": [
        "type(t1)"
      ],
      "execution_count": null,
      "outputs": [
        {
          "output_type": "execute_result",
          "data": {
            "text/plain": [
              "int"
            ]
          },
          "metadata": {},
          "execution_count": 138
        }
      ]
    },
    {
      "cell_type": "code",
      "metadata": {
        "id": "J5UfOX1oviN7"
      },
      "source": [
        "t2 = (1,) "
      ],
      "execution_count": null,
      "outputs": []
    },
    {
      "cell_type": "code",
      "metadata": {
        "colab": {
          "base_uri": "https://localhost:8080/"
        },
        "id": "qu219I_lvkL7",
        "outputId": "6f6f9c94-6dfa-453c-d8ce-b3499cfef3f1"
      },
      "source": [
        "type(t2) # 1. 튜플은 값이 하나일 경우 \",\" 붙여야."
      ],
      "execution_count": null,
      "outputs": [
        {
          "output_type": "execute_result",
          "data": {
            "text/plain": [
              "tuple"
            ]
          },
          "metadata": {},
          "execution_count": 140
        }
      ]
    },
    {
      "cell_type": "code",
      "metadata": {
        "id": "kGmAYiOKvqAv"
      },
      "source": [
        "t3 = 1,2,3,4"
      ],
      "execution_count": null,
      "outputs": []
    },
    {
      "cell_type": "code",
      "metadata": {
        "colab": {
          "base_uri": "https://localhost:8080/"
        },
        "id": "RkQko7X1whQe",
        "outputId": "5e792117-1c98-48db-8b88-099c3de760ea"
      },
      "source": [
        "type(t3) # 2. 튜플은 괄호 생략 가능."
      ],
      "execution_count": null,
      "outputs": [
        {
          "output_type": "execute_result",
          "data": {
            "text/plain": [
              "tuple"
            ]
          },
          "metadata": {},
          "execution_count": 142
        }
      ]
    },
    {
      "cell_type": "code",
      "metadata": {
        "colab": {
          "base_uri": "https://localhost:8080/"
        },
        "id": "FMQHHEwawll8",
        "outputId": "d59e6a3a-1bf2-4c14-ee39-55f06fe539e2"
      },
      "source": [
        "a = [1,2,3,4,5]\n",
        "a.extend([6])\n",
        "a"
      ],
      "execution_count": null,
      "outputs": [
        {
          "output_type": "execute_result",
          "data": {
            "text/plain": [
              "[1, 2, 3, 4, 5, 6]"
            ]
          },
          "metadata": {},
          "execution_count": 155
        }
      ]
    },
    {
      "cell_type": "markdown",
      "metadata": {
        "id": "okr4sjUG0zOH"
      },
      "source": [
        "dictionary {key:value}\n",
        "\n"
      ]
    },
    {
      "cell_type": "code",
      "metadata": {
        "id": "mA_sw6Am01jR"
      },
      "source": [
        "dic = {'name':'lee', 'contact':'01023234556', 'birth':'0324'}"
      ],
      "execution_count": null,
      "outputs": []
    },
    {
      "cell_type": "code",
      "metadata": {
        "id": "s9emKXNo3Nh0"
      },
      "source": [
        "a = {'a':[1,2,3]} #value에 리스트 추가도 가능."
      ],
      "execution_count": null,
      "outputs": []
    },
    {
      "cell_type": "code",
      "metadata": {
        "colab": {
          "base_uri": "https://localhost:8080/"
        },
        "id": "yNbcP8rX3Wo2",
        "outputId": "44197a31-48d2-4367-8591-5ba5998b71bd"
      },
      "source": [
        "a = {'a':[1,2,3]}\n",
        "a['b'] = [4,5,6]\n",
        "a \n",
        "#'b' key, [4,5,6] value 추가"
      ],
      "execution_count": null,
      "outputs": [
        {
          "output_type": "execute_result",
          "data": {
            "text/plain": [
              "{'a': [1, 2, 3], 'b': [4, 5, 6]}"
            ]
          },
          "metadata": {},
          "execution_count": 167
        }
      ]
    },
    {
      "cell_type": "code",
      "metadata": {
        "colab": {
          "base_uri": "https://localhost:8080/"
        },
        "id": "2re-KBxy5Xd-",
        "outputId": "e5a258d5-fb59-4cfa-e828-fcb90369f92d"
      },
      "source": [
        "del a['a']\n",
        "a"
      ],
      "execution_count": null,
      "outputs": [
        {
          "output_type": "execute_result",
          "data": {
            "text/plain": [
              "{'b': [4, 5, 6]}"
            ]
          },
          "metadata": {},
          "execution_count": 168
        }
      ]
    },
    {
      "cell_type": "markdown",
      "metadata": {
        "id": "QHg9EY7f6ZmW"
      },
      "source": [
        "dictionary 활용 : key 통해 value 구하는 것."
      ]
    },
    {
      "cell_type": "code",
      "metadata": {
        "colab": {
          "base_uri": "https://localhost:8080/",
          "height": 35
        },
        "id": "XRuwGjPz5fH8",
        "outputId": "64853ecf-b6f9-4afb-f612-859edac98bca"
      },
      "source": [
        "grade = {'이태후':'A','김백겸':'B'}\n",
        "grade['이태후'] #없을 시 오류"
      ],
      "execution_count": null,
      "outputs": [
        {
          "output_type": "execute_result",
          "data": {
            "application/vnd.google.colaboratory.intrinsic+json": {
              "type": "string"
            },
            "text/plain": [
              "'A'"
            ]
          },
          "metadata": {},
          "execution_count": 195
        }
      ]
    },
    {
      "cell_type": "code",
      "metadata": {
        "colab": {
          "base_uri": "https://localhost:8080/",
          "height": 35
        },
        "id": "oNgWxpGi_vqJ",
        "outputId": "f0c3c793-13d3-464f-a900-97715bab92ba"
      },
      "source": [
        "grade.get('이태후') #없을 시 none(안돌려줌)"
      ],
      "execution_count": null,
      "outputs": [
        {
          "output_type": "execute_result",
          "data": {
            "application/vnd.google.colaboratory.intrinsic+json": {
              "type": "string"
            },
            "text/plain": [
              "'A'"
            ]
          },
          "metadata": {},
          "execution_count": 199
        }
      ]
    },
    {
      "cell_type": "code",
      "metadata": {
        "colab": {
          "base_uri": "https://localhost:8080/",
          "height": 35
        },
        "id": "xpbkSXz4AWla",
        "outputId": "2757c4e4-8441-4aac-e0b2-59847c280927"
      },
      "source": [
        "grade.get('이후','값없음') #없을 시 대체값 설정 가능!!"
      ],
      "execution_count": null,
      "outputs": [
        {
          "output_type": "execute_result",
          "data": {
            "application/vnd.google.colaboratory.intrinsic+json": {
              "type": "string"
            },
            "text/plain": [
              "'값없음'"
            ]
          },
          "metadata": {},
          "execution_count": 200
        }
      ]
    },
    {
      "cell_type": "code",
      "metadata": {
        "id": "VbxMxGv56rke"
      },
      "source": [
        "# key 중복/변경 불가, 리스트 사용불가, 튜플 사용가능(변경불가하므로)"
      ],
      "execution_count": null,
      "outputs": []
    },
    {
      "cell_type": "markdown",
      "metadata": {
        "id": "RFzg8zYJ9kcB"
      },
      "source": [
        "dictionary 전용 함수"
      ]
    },
    {
      "cell_type": "code",
      "metadata": {
        "id": "9N1ju9CH9gOu"
      },
      "source": [
        "grade = {'이태후':'A','김백겸':'B'}"
      ],
      "execution_count": null,
      "outputs": []
    },
    {
      "cell_type": "code",
      "metadata": {
        "colab": {
          "base_uri": "https://localhost:8080/"
        },
        "id": "GEH2jxQi9se2",
        "outputId": "d19237e4-255a-4547-9587-179c758da8ae"
      },
      "source": [
        "grade.keys() "
      ],
      "execution_count": null,
      "outputs": [
        {
          "output_type": "execute_result",
          "data": {
            "text/plain": [
              "dict_keys(['이태후', '김백겸'])"
            ]
          },
          "metadata": {},
          "execution_count": 179
        }
      ]
    },
    {
      "cell_type": "code",
      "metadata": {
        "colab": {
          "base_uri": "https://localhost:8080/"
        },
        "id": "nvE3LHKq-DgL",
        "outputId": "658620e3-5b5b-4345-9e4a-eeabcee63a59"
      },
      "source": [
        "for k in grade.keys(): #keys() 활용\n",
        "  print(k)"
      ],
      "execution_count": null,
      "outputs": [
        {
          "output_type": "stream",
          "name": "stdout",
          "text": [
            "이태후\n",
            "김백겸\n"
          ]
        }
      ]
    },
    {
      "cell_type": "code",
      "metadata": {
        "colab": {
          "base_uri": "https://localhost:8080/"
        },
        "id": "yw4yLBz7-l5k",
        "outputId": "cc77f205-8d4c-4bdc-9e4a-a023d5b249d6"
      },
      "source": [
        "grade.values()"
      ],
      "execution_count": null,
      "outputs": [
        {
          "output_type": "execute_result",
          "data": {
            "text/plain": [
              "dict_values(['A', 'B'])"
            ]
          },
          "metadata": {},
          "execution_count": 183
        }
      ]
    },
    {
      "cell_type": "code",
      "metadata": {
        "colab": {
          "base_uri": "https://localhost:8080/"
        },
        "id": "GE1pvi9m-w5D",
        "outputId": "fde266d5-07d7-418e-8670-7ae8830bce1d"
      },
      "source": [
        "grade.items() #key-tuple 쌍 반환"
      ],
      "execution_count": null,
      "outputs": [
        {
          "output_type": "execute_result",
          "data": {
            "text/plain": [
              "dict_items([('이태후', 'A'), ('김백겸', 'B')])"
            ]
          },
          "metadata": {},
          "execution_count": 185
        }
      ]
    },
    {
      "cell_type": "code",
      "metadata": {
        "colab": {
          "base_uri": "https://localhost:8080/"
        },
        "id": "7OIIbZcG-85F",
        "outputId": "5cf38aca-3b5e-4603-9d03-272897bd1021"
      },
      "source": [
        "grade.clear()\n",
        "grade #list:[] tuple:() dic:{}"
      ],
      "execution_count": null,
      "outputs": [
        {
          "output_type": "execute_result",
          "data": {
            "text/plain": [
              "{}"
            ]
          },
          "metadata": {},
          "execution_count": 187
        }
      ]
    },
    {
      "cell_type": "code",
      "metadata": {
        "colab": {
          "base_uri": "https://localhost:8080/"
        },
        "id": "Qja59RVT_VsE",
        "outputId": "973f38f5-f503-4879-a8df-b7b1f2b4b67d"
      },
      "source": [
        "'이태후' in grade #key 기준"
      ],
      "execution_count": null,
      "outputs": [
        {
          "output_type": "execute_result",
          "data": {
            "text/plain": [
              "True"
            ]
          },
          "metadata": {},
          "execution_count": 201
        }
      ]
    },
    {
      "cell_type": "code",
      "metadata": {
        "colab": {
          "base_uri": "https://localhost:8080/"
        },
        "id": "HX_AEM8kBX0D",
        "outputId": "591d3bb0-8e36-4e78-f02e-21055bac281a"
      },
      "source": [
        "grade = {'이태후':'A'}\n",
        "'이태' in grade"
      ],
      "execution_count": null,
      "outputs": [
        {
          "output_type": "execute_result",
          "data": {
            "text/plain": [
              "False"
            ]
          },
          "metadata": {},
          "execution_count": 2
        }
      ]
    },
    {
      "cell_type": "markdown",
      "metadata": {
        "id": "2jafs_J8Spjz"
      },
      "source": [
        "집합"
      ]
    },
    {
      "cell_type": "code",
      "metadata": {
        "id": "sj-k83XHSmWC"
      },
      "source": [
        "s1 = set([1,2,3])"
      ],
      "execution_count": null,
      "outputs": []
    },
    {
      "cell_type": "code",
      "metadata": {
        "colab": {
          "base_uri": "https://localhost:8080/"
        },
        "id": "UyTOmO1DStaP",
        "outputId": "743b2b2b-8565-4ae6-c57c-74fbefcc7975"
      },
      "source": [
        "s1"
      ],
      "execution_count": null,
      "outputs": [
        {
          "output_type": "execute_result",
          "data": {
            "text/plain": [
              "{1, 2, 3}"
            ]
          },
          "metadata": {},
          "execution_count": 4
        }
      ]
    },
    {
      "cell_type": "code",
      "metadata": {
        "colab": {
          "base_uri": "https://localhost:8080/"
        },
        "id": "pg_WERqtSujF",
        "outputId": "58e76940-7c22-4ac3-ebe7-04b5796cca08"
      },
      "source": [
        "s2 = set(\"hello\")\n",
        "s2 # 집합 : 중복 불가, 순서 없음 (<>list, tuple) -> 인덱싱 활용 불가 (=dictionary)"
      ],
      "execution_count": null,
      "outputs": [
        {
          "output_type": "execute_result",
          "data": {
            "text/plain": [
              "{'e', 'h', 'l', 'o'}"
            ]
          },
          "metadata": {},
          "execution_count": 6
        }
      ]
    },
    {
      "cell_type": "code",
      "metadata": {
        "colab": {
          "base_uri": "https://localhost:8080/"
        },
        "id": "s4mrtAhKTcuJ",
        "outputId": "561cb4c3-4561-4ed6-e494-13d1c60ec865"
      },
      "source": [
        "list1 = list(s1)\n",
        "list1[0] #리스트화 후 인덱싱"
      ],
      "execution_count": null,
      "outputs": [
        {
          "output_type": "execute_result",
          "data": {
            "text/plain": [
              "1"
            ]
          },
          "metadata": {},
          "execution_count": 11
        }
      ]
    },
    {
      "cell_type": "code",
      "metadata": {
        "colab": {
          "base_uri": "https://localhost:8080/"
        },
        "id": "bF2bRRdTTIyU",
        "outputId": "f1668f9b-b35d-44c0-acab-a5027feb323a"
      },
      "source": [
        "tuple1 = tuple(s1)\n",
        "tuple1[1]"
      ],
      "execution_count": null,
      "outputs": [
        {
          "output_type": "execute_result",
          "data": {
            "text/plain": [
              "2"
            ]
          },
          "metadata": {},
          "execution_count": 13
        }
      ]
    },
    {
      "cell_type": "markdown",
      "metadata": {
        "id": "e6TC8tACUAp8"
      },
      "source": [
        "set : 교집합, 차집합, 합집합 구할 때 용이하다."
      ]
    },
    {
      "cell_type": "code",
      "metadata": {
        "id": "z11bsmIHT9Ka"
      },
      "source": [
        "    else:\n",
        "        print('더 노력을!')\n",
        "        "
      ],
      "execution_count": null,
      "outputs": []
    },
    {
      "cell_type": "code",
      "metadata": {
        "id": "EU6ufO3YUN3S"
      },
      "source": [
        "s1 = set([1,2,3,4,5,6])\n",
        "s2 = set([4,5,6,7,8])"
      ],
      "execution_count": null,
      "outputs": []
    },
    {
      "cell_type": "code",
      "metadata": {
        "colab": {
          "base_uri": "https://localhost:8080/"
        },
        "id": "SCiFI95JsOYH",
        "outputId": "a580fdc9-2b13-4a3c-d69d-252fdb4d2b4b"
      },
      "source": [
        "s1 & s2"
      ],
      "execution_count": null,
      "outputs": [
        {
          "output_type": "execute_result",
          "data": {
            "text/plain": [
              "{4, 5, 6}"
            ]
          },
          "metadata": {},
          "execution_count": 3
        }
      ]
    },
    {
      "cell_type": "code",
      "metadata": {
        "colab": {
          "base_uri": "https://localhost:8080/"
        },
        "id": "_sBYuXiOsRPZ",
        "outputId": "b269cb4c-bfc2-4238-ba69-a27e377ba757"
      },
      "source": [
        "s1 | s2"
      ],
      "execution_count": null,
      "outputs": [
        {
          "output_type": "execute_result",
          "data": {
            "text/plain": [
              "{1, 2, 3, 4, 5, 6, 7, 8}"
            ]
          },
          "metadata": {},
          "execution_count": 4
        }
      ]
    },
    {
      "cell_type": "code",
      "metadata": {
        "colab": {
          "base_uri": "https://localhost:8080/"
        },
        "id": "XEUzzEvgsTtx",
        "outputId": "178fa0f7-791b-412b-ab6d-02688072eef3"
      },
      "source": [
        "s1 - s2"
      ],
      "execution_count": null,
      "outputs": [
        {
          "output_type": "execute_result",
          "data": {
            "text/plain": [
              "{1, 2, 3}"
            ]
          },
          "metadata": {},
          "execution_count": 5
        }
      ]
    },
    {
      "cell_type": "code",
      "metadata": {
        "id": "FjbIhNppsXuC"
      },
      "source": [
        "s1.add(7) \n",
        " # list : append, extend(리스트만) \n",
        " # tuple : x \n",
        " # set : add(1개만),update(여러개)"
      ],
      "execution_count": null,
      "outputs": []
    },
    {
      "cell_type": "code",
      "metadata": {
        "colab": {
          "base_uri": "https://localhost:8080/"
        },
        "id": "sDc9ntjXs5Wo",
        "outputId": "8947b4ee-9a5c-4b3d-8e91-381cd23bd0e5"
      },
      "source": [
        "s1.update([8,9])\n",
        "s1"
      ],
      "execution_count": null,
      "outputs": [
        {
          "output_type": "execute_result",
          "data": {
            "text/plain": [
              "{1, 2, 3, 4, 5, 6, 7, 8, 9}"
            ]
          },
          "metadata": {},
          "execution_count": 20
        }
      ]
    },
    {
      "cell_type": "code",
      "metadata": {
        "id": "MrC_y3squHce"
      },
      "source": [
        "s1.remove(7)"
      ],
      "execution_count": null,
      "outputs": []
    },
    {
      "cell_type": "markdown",
      "metadata": {
        "id": "jqi1atoDwy1B"
      },
      "source": [
        "변수"
      ]
    },
    {
      "cell_type": "code",
      "metadata": {
        "colab": {
          "base_uri": "https://localhost:8080/"
        },
        "id": "8sMrYwFauyLK",
        "outputId": "93e8cd35-011a-4580-c8b8-770590f1e1db"
      },
      "source": [
        "a = [1,2,3]\n",
        "b = a[:] #리스트 전체 의미\n",
        "b"
      ],
      "execution_count": null,
      "outputs": [
        {
          "output_type": "execute_result",
          "data": {
            "text/plain": [
              "[1, 2, 3]"
            ]
          },
          "metadata": {},
          "execution_count": 27
        }
      ]
    },
    {
      "cell_type": "code",
      "metadata": {
        "colab": {
          "base_uri": "https://localhost:8080/"
        },
        "id": "6hgt4dpJw5jV",
        "outputId": "634c026c-31aa-42a8-83b6-5a5689c7d99c"
      },
      "source": [
        "a == b"
      ],
      "execution_count": null,
      "outputs": [
        {
          "output_type": "execute_result",
          "data": {
            "text/plain": [
              "True"
            ]
          },
          "metadata": {},
          "execution_count": 30
        }
      ]
    },
    {
      "cell_type": "code",
      "metadata": {
        "colab": {
          "base_uri": "https://localhost:8080/"
        },
        "id": "CNlykpWbw-rB",
        "outputId": "7405f622-d117-475f-dc1b-fc8764414eb7"
      },
      "source": [
        "a is b #값만 같지 주소는 다름."
      ],
      "execution_count": null,
      "outputs": [
        {
          "output_type": "execute_result",
          "data": {
            "text/plain": [
              "False"
            ]
          },
          "metadata": {},
          "execution_count": 31
        }
      ]
    },
    {
      "cell_type": "code",
      "metadata": {
        "colab": {
          "base_uri": "https://localhost:8080/"
        },
        "id": "paX2oyDXxFw-",
        "outputId": "4b262d5a-71be-46ba-fd29-bcc7ec931f37"
      },
      "source": [
        "c = a.copy()\n",
        "c"
      ],
      "execution_count": null,
      "outputs": [
        {
          "output_type": "execute_result",
          "data": {
            "text/plain": [
              "[1, 2, 3]"
            ]
          },
          "metadata": {},
          "execution_count": 32
        }
      ]
    },
    {
      "cell_type": "code",
      "metadata": {
        "colab": {
          "base_uri": "https://localhost:8080/"
        },
        "id": "iolVfUDvxMR0",
        "outputId": "a0f41cfd-e431-495b-ea72-1e4bc1a01bf9"
      },
      "source": [
        "c is a"
      ],
      "execution_count": null,
      "outputs": [
        {
          "output_type": "execute_result",
          "data": {
            "text/plain": [
              "False"
            ]
          },
          "metadata": {},
          "execution_count": 34
        }
      ]
    },
    {
      "cell_type": "markdown",
      "metadata": {
        "id": "ETORyj7A02cy"
      },
      "source": [
        "변수 만드는 방법"
      ]
    },
    {
      "cell_type": "code",
      "metadata": {
        "id": "0-UVIDsZ032V"
      },
      "source": [
        "a, b = '태후', '채연' #튜플 - 괄호 생략 가능"
      ],
      "execution_count": null,
      "outputs": []
    },
    {
      "cell_type": "code",
      "metadata": {
        "colab": {
          "base_uri": "https://localhost:8080/"
        },
        "id": "bejC2ZMj1Xs6",
        "outputId": "5260859c-2894-40e7-8c70-00f92b6ebaa5"
      },
      "source": [
        "type(a)"
      ],
      "execution_count": null,
      "outputs": [
        {
          "output_type": "execute_result",
          "data": {
            "text/plain": [
              "str"
            ]
          },
          "metadata": {},
          "execution_count": 41
        }
      ]
    },
    {
      "cell_type": "code",
      "metadata": {
        "id": "idX3yN6H1Ahi"
      },
      "source": [
        "[a, b] = ['태후', '채연']"
      ],
      "execution_count": null,
      "outputs": []
    },
    {
      "cell_type": "code",
      "metadata": {
        "colab": {
          "base_uri": "https://localhost:8080/"
        },
        "id": "VVcP2s7b1RLx",
        "outputId": "d6ee9e1e-2a49-4405-9879-d98da2955b34"
      },
      "source": [
        "type(a)"
      ],
      "execution_count": null,
      "outputs": [
        {
          "output_type": "execute_result",
          "data": {
            "text/plain": [
              "str"
            ]
          },
          "metadata": {},
          "execution_count": 42
        }
      ]
    },
    {
      "cell_type": "code",
      "metadata": {
        "colab": {
          "base_uri": "https://localhost:8080/"
        },
        "id": "ItCE2zaN1dL9",
        "outputId": "2bca2380-3bc4-4517-b887-760a29411c6c"
      },
      "source": [
        "a = 3\n",
        "b = 5\n",
        "a, b = 5, 3\n",
        "a"
      ],
      "execution_count": null,
      "outputs": [
        {
          "output_type": "execute_result",
          "data": {
            "text/plain": [
              "5"
            ]
          },
          "metadata": {},
          "execution_count": 43
        }
      ]
    },
    {
      "cell_type": "code",
      "metadata": {
        "id": "5XaDw2Mj1lsy",
        "colab": {
          "base_uri": "https://localhost:8080/"
        },
        "outputId": "373d3194-b57e-4ac9-c093-44806f36443c"
      },
      "source": [
        "b"
      ],
      "execution_count": null,
      "outputs": [
        {
          "output_type": "execute_result",
          "data": {
            "text/plain": [
              "3"
            ]
          },
          "metadata": {},
          "execution_count": 44
        }
      ]
    },
    {
      "cell_type": "code",
      "metadata": {
        "colab": {
          "base_uri": "https://localhost:8080/",
          "height": 35
        },
        "id": "CnCGyqMU4wE7",
        "outputId": "9b24f6c3-1fd2-4be0-e7a2-6e433c953d31"
      },
      "source": [
        "list2 = ['life', 'is', 'too', 'short']\n",
        "a = \" \".join(list2)\n",
        "a "
      ],
      "execution_count": null,
      "outputs": [
        {
          "output_type": "execute_result",
          "data": {
            "application/vnd.google.colaboratory.intrinsic+json": {
              "type": "string"
            },
            "text/plain": [
              "'life is too short'"
            ]
          },
          "metadata": {},
          "execution_count": 73
        }
      ]
    }
  ]
}