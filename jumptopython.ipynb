{
  "nbformat": 4,
  "nbformat_minor": 0,
  "metadata": {
    "colab": {
      "name": "jumptopython.ipynb",
      "provenance": [],
      "authorship_tag": "ABX9TyP2RqcjvFKwlSQyoGzzaoh8",
      "include_colab_link": true
    },
    "kernelspec": {
      "name": "python3",
      "display_name": "Python 3"
    },
    "language_info": {
      "name": "python"
    }
  },
  "cells": [
    {
      "cell_type": "markdown",
      "metadata": {
        "id": "view-in-github",
        "colab_type": "text"
      },
      "source": [
        "<a href=\"https://colab.research.google.com/github/Taewhoo/https-github.com-Taewhoo-Jumptopython/blob/main/jumptopython.ipynb\" target=\"_parent\"><img src=\"https://colab.research.google.com/assets/colab-badge.svg\" alt=\"Open In Colab\"/></a>"
      ]
    },
    {
      "cell_type": "code",
      "metadata": {
        "colab": {
          "base_uri": "https://localhost:8080/"
        },
        "id": "aRcrYf_lEh-m",
        "outputId": "4b9abf26-2c6c-425f-b66c-ed984189643b"
      },
      "source": [
        "a / b"
      ],
      "execution_count": null,
      "outputs": [
        {
          "output_type": "execute_result",
          "data": {
            "text/plain": [
              "0.75"
            ]
          },
          "metadata": {},
          "execution_count": 15
        }
      ]
    },
    {
      "cell_type": "code",
      "metadata": {
        "colab": {
          "base_uri": "https://localhost:8080/"
        },
        "id": "SsiJD2nyEkRT",
        "outputId": "8aa01446-b5de-4558-f6af-bcf70f7202ed"
      },
      "source": [
        "a ** b"
      ],
      "execution_count": null,
      "outputs": [
        {
          "output_type": "execute_result",
          "data": {
            "text/plain": [
              "81"
            ]
          },
          "metadata": {},
          "execution_count": 16
        }
      ]
    },
    {
      "cell_type": "code",
      "metadata": {
        "colab": {
          "base_uri": "https://localhost:8080/"
        },
        "id": "iR0GHUBiEm1b",
        "outputId": "75bf0e96-1226-4677-cee1-307bd721f21d"
      },
      "source": [
        "a // b"
      ],
      "execution_count": null,
      "outputs": [
        {
          "output_type": "execute_result",
          "data": {
            "text/plain": [
              "0"
            ]
          },
          "metadata": {},
          "execution_count": 17
        }
      ]
    },
    {
      "cell_type": "markdown",
      "metadata": {
        "id": "2AsJeo-yNxOa"
      },
      "source": [
        "백슬래쉬"
      ]
    },
    {
      "cell_type": "code",
      "metadata": {
        "id": "tPNYE-1OF5cT"
      },
      "source": [
        "food = 'Python\\'s favorite food is perl'"
      ],
      "execution_count": null,
      "outputs": []
    },
    {
      "cell_type": "code",
      "metadata": {
        "id": "_wVcvzepGX6T"
      },
      "source": [
        "say = \"\\\"Python is very easy.\\\" he says.\""
      ],
      "execution_count": null,
      "outputs": []
    },
    {
      "cell_type": "code",
      "metadata": {
        "id": "fE3Xhj7-Gpnj"
      },
      "source": [
        "multiline = \"Life is too short.\\nYou need python.\""
      ],
      "execution_count": null,
      "outputs": []
    },
    {
      "cell_type": "code",
      "metadata": {
        "colab": {
          "base_uri": "https://localhost:8080/"
        },
        "id": "5IuXoKZsGxQq",
        "outputId": "599325cc-9efc-43e2-e061-f763803c3cb0"
      },
      "source": [
        "print(multiline)"
      ],
      "execution_count": null,
      "outputs": [
        {
          "output_type": "stream",
          "name": "stdout",
          "text": [
            "Life is too short.\n",
            "You need python.\n"
          ]
        }
      ]
    },
    {
      "cell_type": "code",
      "metadata": {
        "id": "2Q1wKdbZHGG7"
      },
      "source": [
        "multiline = '''\n",
        "life is too short.\n",
        "you need python.\n",
        "ok.\n",
        "'''\n"
      ],
      "execution_count": null,
      "outputs": []
    },
    {
      "cell_type": "code",
      "metadata": {
        "colab": {
          "base_uri": "https://localhost:8080/"
        },
        "id": "kBw6RBmYHSz5",
        "outputId": "dd148946-ccef-45bf-a03d-f9e6824dd00c"
      },
      "source": [
        "print(multiline)"
      ],
      "execution_count": null,
      "outputs": [
        {
          "output_type": "stream",
          "name": "stdout",
          "text": [
            "\n",
            "life is too short.\n",
            "you need python.\n",
            "ok.\n",
            "\n"
          ]
        }
      ]
    },
    {
      "cell_type": "code",
      "metadata": {
        "id": "h5nVQuFVHY5w"
      },
      "source": [
        "tab = 'lets\\tgo'"
      ],
      "execution_count": null,
      "outputs": []
    },
    {
      "cell_type": "code",
      "metadata": {
        "colab": {
          "base_uri": "https://localhost:8080/"
        },
        "id": "RCV0RspzHijJ",
        "outputId": "ccc9414f-a022-4dc6-c70c-bc16dd075c8c"
      },
      "source": [
        "print(tab)"
      ],
      "execution_count": null,
      "outputs": [
        {
          "output_type": "stream",
          "name": "stdout",
          "text": [
            "lets\tgo\n"
          ]
        }
      ]
    },
    {
      "cell_type": "code",
      "metadata": {
        "id": "9QtofRilHni2"
      },
      "source": [
        "backslash = 'i\\\\like\\\\soccer'"
      ],
      "execution_count": null,
      "outputs": []
    },
    {
      "cell_type": "code",
      "metadata": {
        "colab": {
          "base_uri": "https://localhost:8080/"
        },
        "id": "jUDSq2WMHucV",
        "outputId": "6ed458ec-c60f-425c-c400-14bacdad1c8c"
      },
      "source": [
        "print(backslash)"
      ],
      "execution_count": null,
      "outputs": [
        {
          "output_type": "stream",
          "name": "stdout",
          "text": [
            "i\\like\\soccer\n"
          ]
        }
      ]
    },
    {
      "cell_type": "markdown",
      "metadata": {
        "id": "FZPvawjpODLA"
      },
      "source": [
        "인덱싱 & 슬라이싱"
      ]
    },
    {
      "cell_type": "code",
      "metadata": {
        "id": "VnBFU4wvJnLG"
      },
      "source": [
        "a = \"life is short\""
      ],
      "execution_count": null,
      "outputs": []
    },
    {
      "cell_type": "code",
      "metadata": {
        "colab": {
          "base_uri": "https://localhost:8080/"
        },
        "id": "PwP9RTP5Lw-H",
        "outputId": "16be9d97-623b-46b0-f76f-88643cc632b7"
      },
      "source": [
        "len(a)"
      ],
      "execution_count": null,
      "outputs": [
        {
          "output_type": "execute_result",
          "data": {
            "text/plain": [
              "13"
            ]
          },
          "metadata": {},
          "execution_count": 47
        }
      ]
    },
    {
      "cell_type": "code",
      "metadata": {
        "colab": {
          "base_uri": "https://localhost:8080/",
          "height": 35
        },
        "id": "VVAELvlVL2ST",
        "outputId": "58b1d644-ec5f-4757-939b-e344b20ec8a0"
      },
      "source": [
        "a[3] #인덱싱"
      ],
      "execution_count": null,
      "outputs": [
        {
          "output_type": "execute_result",
          "data": {
            "application/vnd.google.colaboratory.intrinsic+json": {
              "type": "string"
            },
            "text/plain": [
              "'e'"
            ]
          },
          "metadata": {},
          "execution_count": 49
        }
      ]
    },
    {
      "cell_type": "code",
      "metadata": {
        "colab": {
          "base_uri": "https://localhost:8080/",
          "height": 35
        },
        "id": "h7EPchrlMb1b",
        "outputId": "baf20209-5199-4d76-f442-dbd071491f7f"
      },
      "source": [
        "a[-1]"
      ],
      "execution_count": null,
      "outputs": [
        {
          "output_type": "execute_result",
          "data": {
            "application/vnd.google.colaboratory.intrinsic+json": {
              "type": "string"
            },
            "text/plain": [
              "'t'"
            ]
          },
          "metadata": {},
          "execution_count": 50
        }
      ]
    },
    {
      "cell_type": "code",
      "metadata": {
        "colab": {
          "base_uri": "https://localhost:8080/",
          "height": 35
        },
        "id": "UYefUOJvNJ2N",
        "outputId": "ecebe7ed-cfff-4410-b69e-4512a0adfffb"
      },
      "source": [
        "a[0:3] # 끝번호 이전에서 잘린다."
      ],
      "execution_count": null,
      "outputs": [
        {
          "output_type": "execute_result",
          "data": {
            "application/vnd.google.colaboratory.intrinsic+json": {
              "type": "string"
            },
            "text/plain": [
              "'lif'"
            ]
          },
          "metadata": {},
          "execution_count": 52
        }
      ]
    },
    {
      "cell_type": "code",
      "metadata": {
        "colab": {
          "base_uri": "https://localhost:8080/",
          "height": 35
        },
        "id": "Dj9MtQLBObHZ",
        "outputId": "840a301b-000e-4a2a-edc3-889296f04fcc"
      },
      "source": [
        "a[0:4]"
      ],
      "execution_count": null,
      "outputs": [
        {
          "output_type": "execute_result",
          "data": {
            "application/vnd.google.colaboratory.intrinsic+json": {
              "type": "string"
            },
            "text/plain": [
              "'life'"
            ]
          },
          "metadata": {},
          "execution_count": 53
        }
      ]
    },
    {
      "cell_type": "code",
      "metadata": {
        "colab": {
          "base_uri": "https://localhost:8080/",
          "height": 35
        },
        "id": "YjmNzeu0OduE",
        "outputId": "e007eb30-625a-4940-f787-7eb50014bdb4"
      },
      "source": [
        "a[5:]"
      ],
      "execution_count": null,
      "outputs": [
        {
          "output_type": "execute_result",
          "data": {
            "application/vnd.google.colaboratory.intrinsic+json": {
              "type": "string"
            },
            "text/plain": [
              "'is short'"
            ]
          },
          "metadata": {},
          "execution_count": 54
        }
      ]
    },
    {
      "cell_type": "code",
      "metadata": {
        "colab": {
          "base_uri": "https://localhost:8080/",
          "height": 35
        },
        "id": "w56nAUS0OsMQ",
        "outputId": "2bf3e387-4030-4529-d28e-b823a3ba83ad"
      },
      "source": [
        "a[:4]"
      ],
      "execution_count": null,
      "outputs": [
        {
          "output_type": "execute_result",
          "data": {
            "application/vnd.google.colaboratory.intrinsic+json": {
              "type": "string"
            },
            "text/plain": [
              "'life'"
            ]
          },
          "metadata": {},
          "execution_count": 55
        }
      ]
    },
    {
      "cell_type": "code",
      "metadata": {
        "colab": {
          "base_uri": "https://localhost:8080/",
          "height": 35
        },
        "id": "9S6-BIPEO4Pz",
        "outputId": "81aeaeee-dd1a-436c-d809-72f1d07f4350"
      },
      "source": [
        "a[6:-3]"
      ],
      "execution_count": null,
      "outputs": [
        {
          "output_type": "execute_result",
          "data": {
            "application/vnd.google.colaboratory.intrinsic+json": {
              "type": "string"
            },
            "text/plain": [
              "'s sh'"
            ]
          },
          "metadata": {},
          "execution_count": 58
        }
      ]
    },
    {
      "cell_type": "code",
      "metadata": {
        "id": "QqOiaXPkPOy6"
      },
      "source": [
        "a = '20010331Rainy'"
      ],
      "execution_count": null,
      "outputs": []
    },
    {
      "cell_type": "code",
      "metadata": {
        "id": "a9EW2EEaW_CX"
      },
      "source": [
        "date = a[:8]"
      ],
      "execution_count": null,
      "outputs": []
    },
    {
      "cell_type": "code",
      "metadata": {
        "id": "RzGuVi6lXFb1"
      },
      "source": [
        "weather = a[8:]"
      ],
      "execution_count": null,
      "outputs": []
    },
    {
      "cell_type": "code",
      "metadata": {
        "colab": {
          "base_uri": "https://localhost:8080/",
          "height": 35
        },
        "id": "y3IEgJbWXJZn",
        "outputId": "f56f2517-e160-45fd-9a4e-cfd52a07d8e0"
      },
      "source": [
        "date"
      ],
      "execution_count": null,
      "outputs": [
        {
          "output_type": "execute_result",
          "data": {
            "application/vnd.google.colaboratory.intrinsic+json": {
              "type": "string"
            },
            "text/plain": [
              "'20010331'"
            ]
          },
          "metadata": {},
          "execution_count": 62
        }
      ]
    },
    {
      "cell_type": "code",
      "metadata": {
        "colab": {
          "base_uri": "https://localhost:8080/",
          "height": 35
        },
        "id": "HfHUQq3uXK0Y",
        "outputId": "c1a55ade-090e-4556-d07f-bc2507931ed5"
      },
      "source": [
        "weather"
      ],
      "execution_count": null,
      "outputs": [
        {
          "output_type": "execute_result",
          "data": {
            "application/vnd.google.colaboratory.intrinsic+json": {
              "type": "string"
            },
            "text/plain": [
              "'Rainy'"
            ]
          },
          "metadata": {},
          "execution_count": 64
        }
      ]
    },
    {
      "cell_type": "markdown",
      "metadata": {
        "id": "2NzmbMqyX5Wv"
      },
      "source": [
        "문자열은 요소값만 떼어내어 변경 불가. (a[1] = 'y')\n",
        "-> 슬라이싱 활용"
      ]
    },
    {
      "cell_type": "code",
      "metadata": {
        "id": "GfC-1ANdXa0A"
      },
      "source": [
        "a = 'pithon' "
      ],
      "execution_count": null,
      "outputs": []
    },
    {
      "cell_type": "code",
      "metadata": {
        "colab": {
          "base_uri": "https://localhost:8080/",
          "height": 35
        },
        "id": "29vDp3ZIXnZP",
        "outputId": "53ab1c28-7d19-4406-e4e1-5f14d10996e7"
      },
      "source": [
        "a[:1]"
      ],
      "execution_count": null,
      "outputs": [
        {
          "output_type": "execute_result",
          "data": {
            "application/vnd.google.colaboratory.intrinsic+json": {
              "type": "string"
            },
            "text/plain": [
              "'p'"
            ]
          },
          "metadata": {},
          "execution_count": 66
        }
      ]
    },
    {
      "cell_type": "code",
      "metadata": {
        "colab": {
          "base_uri": "https://localhost:8080/",
          "height": 35
        },
        "id": "IClkrO8aXuFS",
        "outputId": "f9fad03a-b8e9-4e2a-82b9-3bacaafb7f28"
      },
      "source": [
        "a[2:]"
      ],
      "execution_count": null,
      "outputs": [
        {
          "output_type": "execute_result",
          "data": {
            "application/vnd.google.colaboratory.intrinsic+json": {
              "type": "string"
            },
            "text/plain": [
              "'thon'"
            ]
          },
          "metadata": {},
          "execution_count": 67
        }
      ]
    },
    {
      "cell_type": "code",
      "metadata": {
        "colab": {
          "base_uri": "https://localhost:8080/",
          "height": 35
        },
        "id": "ca42UHo3XwFs",
        "outputId": "cc0918e8-ee28-48d0-9194-fef31cfd8fb7"
      },
      "source": [
        "a[:1] + 'y' + a[2:]"
      ],
      "execution_count": null,
      "outputs": [
        {
          "output_type": "execute_result",
          "data": {
            "application/vnd.google.colaboratory.intrinsic+json": {
              "type": "string"
            },
            "text/plain": [
              "'python'"
            ]
          },
          "metadata": {},
          "execution_count": 70
        }
      ]
    },
    {
      "cell_type": "markdown",
      "metadata": {
        "id": "GQVQErxPYcBh"
      },
      "source": [
        "문자열 포매팅 : 문자열 내 값 삽입"
      ]
    },
    {
      "cell_type": "code",
      "metadata": {
        "colab": {
          "base_uri": "https://localhost:8080/",
          "height": 35
        },
        "id": "73EX_g5PYaqW",
        "outputId": "7384c697-5db4-42d3-e9ed-1b804f2f4481"
      },
      "source": [
        "\"I eat %d apples.\" % 3 # %d,s: 문자열 포맷 코드"
      ],
      "execution_count": null,
      "outputs": [
        {
          "output_type": "execute_result",
          "data": {
            "application/vnd.google.colaboratory.intrinsic+json": {
              "type": "string"
            },
            "text/plain": [
              "'I eat 3 apples.'"
            ]
          },
          "metadata": {},
          "execution_count": 71
        }
      ]
    },
    {
      "cell_type": "code",
      "metadata": {
        "colab": {
          "base_uri": "https://localhost:8080/",
          "height": 35
        },
        "id": "3RT3-rG1Y3j9",
        "outputId": "28d7f2ee-c078-481b-b756-0bdc7f78f671"
      },
      "source": [
        "\"I eat %s apples.\" % \"five\""
      ],
      "execution_count": null,
      "outputs": [
        {
          "output_type": "execute_result",
          "data": {
            "application/vnd.google.colaboratory.intrinsic+json": {
              "type": "string"
            },
            "text/plain": [
              "'I eat five apples.'"
            ]
          },
          "metadata": {},
          "execution_count": 75
        }
      ]
    },
    {
      "cell_type": "code",
      "metadata": {
        "id": "sXF7dyxEa_DW"
      },
      "source": [
        "number = 3"
      ],
      "execution_count": null,
      "outputs": []
    },
    {
      "cell_type": "code",
      "metadata": {
        "colab": {
          "base_uri": "https://localhost:8080/",
          "height": 35
        },
        "id": "rT4EKSImbP8O",
        "outputId": "f3a164c2-9840-46f9-bf11-7fc9f853b0ee"
      },
      "source": [
        "'I eat %d apples.' % number"
      ],
      "execution_count": null,
      "outputs": [
        {
          "output_type": "execute_result",
          "data": {
            "application/vnd.google.colaboratory.intrinsic+json": {
              "type": "string"
            },
            "text/plain": [
              "'I eat 3 apples.'"
            ]
          },
          "metadata": {},
          "execution_count": 78
        }
      ]
    },
    {
      "cell_type": "code",
      "metadata": {
        "colab": {
          "base_uri": "https://localhost:8080/",
          "height": 35
        },
        "id": "SCwZ3u8UbY8u",
        "outputId": "3e9f193d-bba9-4c0e-8097-4ac8e30c49d3"
      },
      "source": [
        "'I ate %d apples, so I was sick for %s days.' % (5,'five')"
      ],
      "execution_count": null,
      "outputs": [
        {
          "output_type": "execute_result",
          "data": {
            "application/vnd.google.colaboratory.intrinsic+json": {
              "type": "string"
            },
            "text/plain": [
              "'I ate 5 apples, so I was sick for five days.'"
            ]
          },
          "metadata": {},
          "execution_count": 82
        }
      ]
    },
    {
      "cell_type": "markdown",
      "metadata": {
        "id": "VfLtzolzdLJZ"
      },
      "source": [
        "%s : 숫자를 넣어도 문자로 알아서 바꿔준다."
      ]
    },
    {
      "cell_type": "code",
      "metadata": {
        "colab": {
          "base_uri": "https://localhost:8080/",
          "height": 35
        },
        "id": "R7P04MUJcqVY",
        "outputId": "e86f09ec-8e35-474a-8948-500f31d5ab36"
      },
      "source": [
        "\"Error is %d%%\" % 90 #포맷 코드와 % 같이 쓸 경우, %%처럼 두번 써야 한다."
      ],
      "execution_count": null,
      "outputs": [
        {
          "output_type": "execute_result",
          "data": {
            "application/vnd.google.colaboratory.intrinsic+json": {
              "type": "string"
            },
            "text/plain": [
              "'Error is 90%'"
            ]
          },
          "metadata": {},
          "execution_count": 83
        }
      ]
    },
    {
      "cell_type": "code",
      "metadata": {
        "id": "4yNjFq-dhaPx"
      },
      "source": [
        ""
      ],
      "execution_count": null,
      "outputs": []
    },
    {
      "cell_type": "markdown",
      "metadata": {
        "id": "x7MEvdv-kVUa"
      },
      "source": [
        "포맷코드 + 숫자"
      ]
    },
    {
      "cell_type": "code",
      "metadata": {
        "colab": {
          "base_uri": "https://localhost:8080/",
          "height": 35
        },
        "id": "rCfEiLL8ki-9",
        "outputId": "558454cf-f1a6-4500-e689-e9c6766eef40"
      },
      "source": [
        "\"%10s\" % 'hi' #10칸 중 오른쪽부터 정렬 입력"
      ],
      "execution_count": null,
      "outputs": [
        {
          "output_type": "execute_result",
          "data": {
            "application/vnd.google.colaboratory.intrinsic+json": {
              "type": "string"
            },
            "text/plain": [
              "'        hi'"
            ]
          },
          "metadata": {},
          "execution_count": 84
        }
      ]
    },
    {
      "cell_type": "code",
      "metadata": {
        "colab": {
          "base_uri": "https://localhost:8080/",
          "height": 35
        },
        "id": "X4hy3Aovkw7A",
        "outputId": "1d0a9f8c-4471-4f45-edd6-cfde802b2eb3"
      },
      "source": [
        "\"%-10s\" % 'hi'"
      ],
      "execution_count": null,
      "outputs": [
        {
          "output_type": "execute_result",
          "data": {
            "application/vnd.google.colaboratory.intrinsic+json": {
              "type": "string"
            },
            "text/plain": [
              "'hi        '"
            ]
          },
          "metadata": {},
          "execution_count": 86
        }
      ]
    },
    {
      "cell_type": "code",
      "metadata": {
        "colab": {
          "base_uri": "https://localhost:8080/",
          "height": 35
        },
        "id": "3tMSkumgluio",
        "outputId": "bd5b4011-9035-4928-ca47-87fb02113842"
      },
      "source": [
        "\"%-10sjane\" % 'hi'"
      ],
      "execution_count": null,
      "outputs": [
        {
          "output_type": "execute_result",
          "data": {
            "application/vnd.google.colaboratory.intrinsic+json": {
              "type": "string"
            },
            "text/plain": [
              "'hi        jane'"
            ]
          },
          "metadata": {},
          "execution_count": 89
        }
      ]
    },
    {
      "cell_type": "code",
      "metadata": {
        "colab": {
          "base_uri": "https://localhost:8080/",
          "height": 35
        },
        "id": "NG11v_Ybl9rZ",
        "outputId": "4d9abe18-ed1b-4099-b399-a628502548e9"
      },
      "source": [
        "\"%10.3f\" % 3.144546"
      ],
      "execution_count": null,
      "outputs": [
        {
          "output_type": "execute_result",
          "data": {
            "application/vnd.google.colaboratory.intrinsic+json": {
              "type": "string"
            },
            "text/plain": [
              "'     3.145'"
            ]
          },
          "metadata": {},
          "execution_count": 93
        }
      ]
    },
    {
      "cell_type": "code",
      "metadata": {
        "colab": {
          "base_uri": "https://localhost:8080/",
          "height": 35
        },
        "id": "Cwv8Vldrnwt1",
        "outputId": "1abf5bff-fb4c-4ed1-a7e5-39bb9bf0dcb2"
      },
      "source": [
        "'%-10.3f' % 3.143124"
      ],
      "execution_count": null,
      "outputs": [
        {
          "output_type": "execute_result",
          "data": {
            "application/vnd.google.colaboratory.intrinsic+json": {
              "type": "string"
            },
            "text/plain": [
              "'3.143     '"
            ]
          },
          "metadata": {},
          "execution_count": 95
        }
      ]
    },
    {
      "cell_type": "markdown",
      "metadata": {
        "id": "r9ODtXq3n9jo"
      },
      "source": [
        "format 함수"
      ]
    },
    {
      "cell_type": "code",
      "metadata": {
        "colab": {
          "base_uri": "https://localhost:8080/",
          "height": 35
        },
        "id": "hEaJFp2Kn7FF",
        "outputId": "b62cc16d-941e-4f1c-e5da-b0d9c974dd9e"
      },
      "source": [
        "'I ate {0} apples'.format('five')"
      ],
      "execution_count": null,
      "outputs": [
        {
          "output_type": "execute_result",
          "data": {
            "application/vnd.google.colaboratory.intrinsic+json": {
              "type": "string"
            },
            "text/plain": [
              "'I ate five apples'"
            ]
          },
          "metadata": {},
          "execution_count": 96
        }
      ]
    },
    {
      "cell_type": "code",
      "metadata": {
        "colab": {
          "base_uri": "https://localhost:8080/",
          "height": 35
        },
        "id": "LK9RrJ4uoPeh",
        "outputId": "2617a0b6-797e-4399-8a00-791ce6a632e6"
      },
      "source": [
        "number = 10\n",
        "day = 'three'\n",
        "'I ate {0} apples, so I was sick for {1} days'.format(number, day)"
      ],
      "execution_count": null,
      "outputs": [
        {
          "output_type": "execute_result",
          "data": {
            "application/vnd.google.colaboratory.intrinsic+json": {
              "type": "string"
            },
            "text/plain": [
              "'I ate 10 apples, so I was sick for three days'"
            ]
          },
          "metadata": {},
          "execution_count": 97
        }
      ]
    },
    {
      "cell_type": "code",
      "metadata": {
        "colab": {
          "base_uri": "https://localhost:8080/",
          "height": 35
        },
        "id": "dlOfqczbpEIf",
        "outputId": "4848d8ad-a398-4b42-8793-b8b79b791211"
      },
      "source": [
        "'I ate {0} apples, so I was sick for {day} days'.format(number, day='three')\n",
        "#인덱스와 이름 혼용 가능"
      ],
      "execution_count": null,
      "outputs": [
        {
          "output_type": "execute_result",
          "data": {
            "application/vnd.google.colaboratory.intrinsic+json": {
              "type": "string"
            },
            "text/plain": [
              "'I ate 10 apples, so I was sick for three days'"
            ]
          },
          "metadata": {},
          "execution_count": 101
        }
      ]
    },
    {
      "cell_type": "code",
      "metadata": {
        "colab": {
          "base_uri": "https://localhost:8080/",
          "height": 35
        },
        "id": "sBuY-6hHpwIs",
        "outputId": "83f8f284-6a1a-432a-de86-5197ff8a9398"
      },
      "source": [
        "'{0:<10}'.format(\"hi\") #0을왼쪽정렬,열자리"
      ],
      "execution_count": null,
      "outputs": [
        {
          "output_type": "execute_result",
          "data": {
            "application/vnd.google.colaboratory.intrinsic+json": {
              "type": "string"
            },
            "text/plain": [
              "'hi        '"
            ]
          },
          "metadata": {},
          "execution_count": 102
        }
      ]
    },
    {
      "cell_type": "code",
      "metadata": {
        "colab": {
          "base_uri": "https://localhost:8080/",
          "height": 35
        },
        "id": "c7E0Yxq2rMsz",
        "outputId": "50bdec43-a04b-4fb7-8fdd-e8ccb03855aa"
      },
      "source": [
        "'{0:>10}'.format('hi')"
      ],
      "execution_count": null,
      "outputs": [
        {
          "output_type": "execute_result",
          "data": {
            "application/vnd.google.colaboratory.intrinsic+json": {
              "type": "string"
            },
            "text/plain": [
              "'        hi'"
            ]
          },
          "metadata": {},
          "execution_count": 103
        }
      ]
    },
    {
      "cell_type": "code",
      "metadata": {
        "colab": {
          "base_uri": "https://localhost:8080/",
          "height": 35
        },
        "id": "jgWSqhVwr69u",
        "outputId": "31de3511-7287-4f36-9bef-87abe1921446"
      },
      "source": [
        "'{0:^5}'.format('hi') #가운데정렬"
      ],
      "execution_count": null,
      "outputs": [
        {
          "output_type": "execute_result",
          "data": {
            "application/vnd.google.colaboratory.intrinsic+json": {
              "type": "string"
            },
            "text/plain": [
              "' hi  '"
            ]
          },
          "metadata": {},
          "execution_count": 106
        }
      ]
    },
    {
      "cell_type": "code",
      "metadata": {
        "colab": {
          "base_uri": "https://localhost:8080/",
          "height": 35
        },
        "id": "vKDGMAJ4si96",
        "outputId": "47b3ba27-a5ac-43cd-efa4-cf347b9faa0a"
      },
      "source": [
        "'{0:!^5}'.format('hi') #0을느낌표로채우고,가운데정렬,5자리"
      ],
      "execution_count": null,
      "outputs": [
        {
          "output_type": "execute_result",
          "data": {
            "application/vnd.google.colaboratory.intrinsic+json": {
              "type": "string"
            },
            "text/plain": [
              "'!hi!!'"
            ]
          },
          "metadata": {},
          "execution_count": 108
        }
      ]
    },
    {
      "cell_type": "code",
      "metadata": {
        "colab": {
          "base_uri": "https://localhost:8080/",
          "height": 35
        },
        "id": "eLg7TObrt4eL",
        "outputId": "27f09ac4-cf65-4537-9096-91d5a25b24df"
      },
      "source": [
        "'%10.3f' % 0.3452112 #소수점 표현 1"
      ],
      "execution_count": null,
      "outputs": [
        {
          "output_type": "execute_result",
          "data": {
            "application/vnd.google.colaboratory.intrinsic+json": {
              "type": "string"
            },
            "text/plain": [
              "'     0.345'"
            ]
          },
          "metadata": {},
          "execution_count": 110
        }
      ]
    },
    {
      "cell_type": "code",
      "metadata": {
        "colab": {
          "base_uri": "https://localhost:8080/",
          "height": 35
        },
        "id": "pHzoBXMDuIPg",
        "outputId": "e74bf50e-8a4b-4fc4-97ec-439dc1af81ba"
      },
      "source": [
        "y = 0.3452112 #소수점 표현 2\n",
        "'{0:>10.3f}'.format(y)\n"
      ],
      "execution_count": null,
      "outputs": [
        {
          "output_type": "execute_result",
          "data": {
            "application/vnd.google.colaboratory.intrinsic+json": {
              "type": "string"
            },
            "text/plain": [
              "'     0.345'"
            ]
          },
          "metadata": {},
          "execution_count": 113
        }
      ]
    },
    {
      "cell_type": "code",
      "metadata": {
        "colab": {
          "base_uri": "https://localhost:8080/",
          "height": 35
        },
        "id": "EwaBBxAKvTfE",
        "outputId": "6827df9e-1e08-43b4-fafd-26f1a2d9a899"
      },
      "source": [
        "'{{ and }}'.format()"
      ],
      "execution_count": null,
      "outputs": [
        {
          "output_type": "execute_result",
          "data": {
            "application/vnd.google.colaboratory.intrinsic+json": {
              "type": "string"
            },
            "text/plain": [
              "'{ and }'"
            ]
          },
          "metadata": {},
          "execution_count": 117
        }
      ]
    },
    {
      "cell_type": "markdown",
      "metadata": {
        "id": "tOFGa41Vv0II"
      },
      "source": [
        "f포매팅"
      ]
    },
    {
      "cell_type": "code",
      "metadata": {
        "colab": {
          "base_uri": "https://localhost:8080/",
          "height": 35
        },
        "id": "Ysp79CHWvz72",
        "outputId": "1890bc7e-2499-42e6-ce72-c8c4d135fb5b"
      },
      "source": [
        "name = \"홍길동\"\n",
        "age = 30\n",
        "\n",
        "f'제 이름은 {name}입니다. 나이는 {age}입니다'"
      ],
      "execution_count": null,
      "outputs": [
        {
          "output_type": "execute_result",
          "data": {
            "application/vnd.google.colaboratory.intrinsic+json": {
              "type": "string"
            },
            "text/plain": [
              "'제 이름은 홍길동입니다. 나이는 30입니다'"
            ]
          },
          "metadata": {},
          "execution_count": 118
        }
      ]
    },
    {
      "cell_type": "code",
      "metadata": {
        "colab": {
          "base_uri": "https://localhost:8080/",
          "height": 35
        },
        "id": "0gNQepiCwa5T",
        "outputId": "39277749-ab3e-4bdf-beec-b23dd008c5cd"
      },
      "source": [
        "age = 30\n",
        "f'나는 내년이면 {age + 1}살이 됩니다.'"
      ],
      "execution_count": null,
      "outputs": [
        {
          "output_type": "execute_result",
          "data": {
            "application/vnd.google.colaboratory.intrinsic+json": {
              "type": "string"
            },
            "text/plain": [
              "'나는 내년이면 31살이 됩니다.'"
            ]
          },
          "metadata": {},
          "execution_count": 119
        }
      ]
    },
    {
      "cell_type": "code",
      "metadata": {
        "colab": {
          "base_uri": "https://localhost:8080/",
          "height": 35
        },
        "id": "k79m6NOIvrvR",
        "outputId": "0e2eda37-8f8b-4ba2-f3a4-044a2ccbb481"
      },
      "source": [
        "d = {'name' : '홍길동', 'age' : 30}\n",
        "f\"나의 이름은 {d['name']}입니다. 나이는 {d['age']}입니다.\""
      ],
      "execution_count": null,
      "outputs": [
        {
          "output_type": "execute_result",
          "data": {
            "application/vnd.google.colaboratory.intrinsic+json": {
              "type": "string"
            },
            "text/plain": [
              "'나의 이름은 홍길동입니다. 나이는 30입니다.'"
            ]
          },
          "metadata": {},
          "execution_count": 124
        }
      ]
    },
    {
      "cell_type": "code",
      "metadata": {
        "colab": {
          "base_uri": "https://localhost:8080/",
          "height": 35
        },
        "id": "3S1AsOQizbew",
        "outputId": "40d5d676-f039-4931-8635-d2a45a134724"
      },
      "source": [
        "f'{\"hi\":!<10}'"
      ],
      "execution_count": null,
      "outputs": [
        {
          "output_type": "execute_result",
          "data": {
            "application/vnd.google.colaboratory.intrinsic+json": {
              "type": "string"
            },
            "text/plain": [
              "'hi!!!!!!!!'"
            ]
          },
          "metadata": {},
          "execution_count": 126
        }
      ]
    },
    {
      "cell_type": "code",
      "metadata": {
        "colab": {
          "base_uri": "https://localhost:8080/",
          "height": 35
        },
        "id": "4-vtlj5FzrWB",
        "outputId": "ef4738ef-b78d-46a3-e32f-6288e4527b17"
      },
      "source": [
        "y = 3.122354\n",
        "f'{y:<10.3f}'"
      ],
      "execution_count": null,
      "outputs": [
        {
          "output_type": "execute_result",
          "data": {
            "application/vnd.google.colaboratory.intrinsic+json": {
              "type": "string"
            },
            "text/plain": [
              "'3.122     '"
            ]
          },
          "metadata": {},
          "execution_count": 129
        }
      ]
    },
    {
      "cell_type": "code",
      "metadata": {
        "colab": {
          "base_uri": "https://localhost:8080/",
          "height": 35
        },
        "id": "fbqY4S980ClD",
        "outputId": "76a1fced-8aeb-4675-f3b0-7c69af80052a"
      },
      "source": [
        "f'{{ and }}'"
      ],
      "execution_count": null,
      "outputs": [
        {
          "output_type": "execute_result",
          "data": {
            "application/vnd.google.colaboratory.intrinsic+json": {
              "type": "string"
            },
            "text/plain": [
              "'{ and }'"
            ]
          },
          "metadata": {},
          "execution_count": 130
        }
      ]
    }
  ]
}