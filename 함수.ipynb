{
  "nbformat": 4,
  "nbformat_minor": 0,
  "metadata": {
    "colab": {
      "name": "함수.ipynb",
      "provenance": [],
      "collapsed_sections": [],
      "authorship_tag": "ABX9TyPKfm7QglzKJah3jHIEvRkT",
      "include_colab_link": true
    },
    "kernelspec": {
      "name": "python3",
      "display_name": "Python 3"
    },
    "language_info": {
      "name": "python"
    }
  },
  "cells": [
    {
      "cell_type": "markdown",
      "metadata": {
        "id": "view-in-github",
        "colab_type": "text"
      },
      "source": [
        "<a href=\"https://colab.research.google.com/github/Taewhoo/https-github.com-Taewhoo-Jumptopython/blob/main/%ED%95%A8%EC%88%98.ipynb\" target=\"_parent\"><img src=\"https://colab.research.google.com/assets/colab-badge.svg\" alt=\"Open In Colab\"/></a>"
      ]
    },
    {
      "cell_type": "markdown",
      "metadata": {
        "id": "E6Db4K592HKM"
      },
      "source": [
        "매개변수, 인수"
      ]
    },
    {
      "cell_type": "code",
      "metadata": {
        "colab": {
          "base_uri": "https://localhost:8080/"
        },
        "id": "ROIZnGtR04Jz",
        "outputId": "89befcfd-e23c-46c9-a295-11c5bf049792"
      },
      "source": [
        "def add(a,b): #a, b : 매개변수(=변수)\n",
        "  return a + b\n",
        "\n",
        "add(3,4) # 3, 4 : 인수 (=입력값)"
      ],
      "execution_count": null,
      "outputs": [
        {
          "output_type": "execute_result",
          "data": {
            "text/plain": [
              "7"
            ]
          },
          "metadata": {},
          "execution_count": 2
        }
      ]
    },
    {
      "cell_type": "code",
      "metadata": {
        "colab": {
          "base_uri": "https://localhost:8080/"
        },
        "id": "A9p4E5bh6U5H",
        "outputId": "cdbbe57a-aff6-4ed1-bdfc-b434dd2863fd"
      },
      "source": [
        "def add(a,b): \n",
        "  return a + b\n",
        "\n",
        "result = add(b=4, a=3)\n",
        "print(result) # 매개변수 지정하여 호출 가능"
      ],
      "execution_count": null,
      "outputs": [
        {
          "output_type": "stream",
          "name": "stdout",
          "text": [
            "7\n"
          ]
        }
      ]
    },
    {
      "cell_type": "markdown",
      "metadata": {
        "id": "8Zm3IUGG3z-B"
      },
      "source": [
        "함수의 종류"
      ]
    },
    {
      "cell_type": "code",
      "metadata": {
        "colab": {
          "base_uri": "https://localhost:8080/"
        },
        "id": "HTRWh-ri1nv-",
        "outputId": "492e5718-1eac-476d-eee5-e7ab08c8e12b"
      },
      "source": [
        "def add(a,b):\n",
        "  return a + b #1. 일반함수\n",
        "a = add(3,4)\n",
        "print(a)"
      ],
      "execution_count": null,
      "outputs": [
        {
          "output_type": "stream",
          "name": "stdout",
          "text": [
            "7\n"
          ]
        }
      ]
    },
    {
      "cell_type": "code",
      "metadata": {
        "colab": {
          "base_uri": "https://localhost:8080/"
        },
        "id": "PHflBnF_37PE",
        "outputId": "969789cb-2ddd-4fc4-9490-14809a610455"
      },
      "source": [
        "def say():\n",
        "  return 'hi'\n",
        "a = say()\n",
        "print(a) #2. 입력값이 없는 함수"
      ],
      "execution_count": null,
      "outputs": [
        {
          "output_type": "stream",
          "name": "stdout",
          "text": [
            "hi\n"
          ]
        }
      ]
    },
    {
      "cell_type": "code",
      "metadata": {
        "colab": {
          "base_uri": "https://localhost:8080/"
        },
        "id": "UCLqCBj24JJu",
        "outputId": "1eceb077-3e0e-4d0c-c0e4-de28b01e3c2e"
      },
      "source": [
        "def add(a,b):\n",
        "  print('%d 더하기 %d는 %d입니다.' % (a, b, a+b)) #결과값 아닌 수행할 문장일 뿐\n",
        "\n",
        "add(3,4)\n",
        "# 3. 결과값이 없는 함수 (결과값 : 오직 return으로 주어짐)"
      ],
      "execution_count": null,
      "outputs": [
        {
          "output_type": "stream",
          "name": "stdout",
          "text": [
            "3 더하기 4는 7입니다.\n"
          ]
        }
      ]
    },
    {
      "cell_type": "code",
      "metadata": {
        "colab": {
          "base_uri": "https://localhost:8080/"
        },
        "id": "eXlRzkzy4805",
        "outputId": "34909a3b-2452-401f-abca-1f963bb2fba1"
      },
      "source": [
        "def add(a,b):\n",
        "  print('%d 더하기 %d는 %d입니다.' % (a, b, a+b))\n",
        "c = add(3,4) #돌려받을 값 -> a 변수에 대입\n",
        "print(c)# none = 거짓이므로 결과값은 없다."
      ],
      "execution_count": null,
      "outputs": [
        {
          "output_type": "stream",
          "name": "stdout",
          "text": [
            "3 더하기 4는 7입니다.\n",
            "None\n"
          ]
        }
      ]
    },
    {
      "cell_type": "code",
      "metadata": {
        "colab": {
          "base_uri": "https://localhost:8080/"
        },
        "id": "aK4BQ7Yd5Y7C",
        "outputId": "51552762-91e0-4fb3-c3a4-b92dddd5249e"
      },
      "source": [
        "def say():\n",
        "  print('hi')\n",
        "\n",
        "say() #4. 입력값도 결과값도 없는 함수"
      ],
      "execution_count": null,
      "outputs": [
        {
          "output_type": "stream",
          "name": "stdout",
          "text": [
            "hi\n"
          ]
        }
      ]
    },
    {
      "cell_type": "markdown",
      "metadata": {
        "id": "l66EmHD76vAU"
      },
      "source": [
        "입력값 개수 미정일 때\n"
      ]
    },
    {
      "cell_type": "code",
      "metadata": {
        "colab": {
          "base_uri": "https://localhost:8080/"
        },
        "id": "YHMx94_r6AFf",
        "outputId": "f7bb5c3e-8819-438d-df39-6995809336ff"
      },
      "source": [
        "def add(*b): # *매개변수\n",
        "  result = 0\n",
        "  for k in b:\n",
        "    result = result + k\n",
        "  return result\n",
        "\n",
        "a = add(1,2,3,4,5)\n",
        "a"
      ],
      "execution_count": null,
      "outputs": [
        {
          "output_type": "execute_result",
          "data": {
            "text/plain": [
              "15"
            ]
          },
          "metadata": {},
          "execution_count": 25
        }
      ]
    },
    {
      "cell_type": "code",
      "metadata": {
        "colab": {
          "base_uri": "https://localhost:8080/"
        },
        "id": "-EXjsLlA9hfk",
        "outputId": "21923240-40f3-4ce7-8641-53ad6c041eca"
      },
      "source": [
        "def add_mul(choice, *x):\n",
        "  if choice == 'add':\n",
        "    result = 0\n",
        "    for k in x:\n",
        "      result = result + k\n",
        "  elif choice == 'mul':\n",
        "    result = 1\n",
        "    for k in x:\n",
        "      result = result * k\n",
        "  return result\n",
        "\n",
        "a = add_mul('mul', 1,2,3,4,5)\n",
        "print(a)\n",
        "    "
      ],
      "execution_count": null,
      "outputs": [
        {
          "output_type": "stream",
          "name": "stdout",
          "text": [
            "120\n"
          ]
        }
      ]
    },
    {
      "cell_type": "code",
      "metadata": {
        "colab": {
          "base_uri": "https://localhost:8080/"
        },
        "id": "vzl6dilw-lrF",
        "outputId": "6485a510-d94f-4189-a7d7-be494fe2b343"
      },
      "source": [
        "def dic_kwargs(**kwargs): # **매개변수(kwargs) -> 딕셔너리화\n",
        "  print(kwargs)\n",
        "\n",
        "dic_kwargs(name = '이태후', date = '서채연') "
      ],
      "execution_count": null,
      "outputs": [
        {
          "output_type": "stream",
          "name": "stdout",
          "text": [
            "{'name': '이태후', 'date': '서채연'}\n"
          ]
        }
      ]
    },
    {
      "cell_type": "code",
      "metadata": {
        "colab": {
          "base_uri": "https://localhost:8080/"
        },
        "id": "MV8-mDdqASC2",
        "outputId": "aa685441-619f-4f9f-9a21-d0864d873107"
      },
      "source": [
        "d = {'name':'이태후'}\n",
        "d.keys()"
      ],
      "execution_count": null,
      "outputs": [
        {
          "output_type": "execute_result",
          "data": {
            "text/plain": [
              "dict_keys(['name'])"
            ]
          },
          "metadata": {},
          "execution_count": 34
        }
      ]
    },
    {
      "cell_type": "markdown",
      "metadata": {
        "id": "-23Ekg09BOa_"
      },
      "source": [
        "함수 값은 하나이다."
      ]
    },
    {
      "cell_type": "code",
      "metadata": {
        "colab": {
          "base_uri": "https://localhost:8080/"
        },
        "id": "5LyLOo_BA5Fz",
        "outputId": "a5bdf62d-1a45-43c2-f7fc-201b258ef970"
      },
      "source": [
        "def add_and_mul(a,b):\n",
        "  return a+b, a*b\n",
        "\n",
        "result = add_and_mul(3,4)\n",
        "print(result) # 하나의 튜플로 묶여서 나온다."
      ],
      "execution_count": null,
      "outputs": [
        {
          "output_type": "stream",
          "name": "stdout",
          "text": [
            "(7, 12)\n"
          ]
        }
      ]
    },
    {
      "cell_type": "code",
      "metadata": {
        "colab": {
          "base_uri": "https://localhost:8080/"
        },
        "id": "IhKY3_tIBgHP",
        "outputId": "5f18669a-e654-436e-b503-68411051156c"
      },
      "source": [
        "result1, result2 = add_and_mul(3,4)\n",
        "print(result1) # 따로따로 원할 경우"
      ],
      "execution_count": null,
      "outputs": [
        {
          "output_type": "stream",
          "name": "stdout",
          "text": [
            "7\n"
          ]
        }
      ]
    },
    {
      "cell_type": "markdown",
      "metadata": {
        "id": "4MHYsI3IC5YL"
      },
      "source": [
        "return의 쓰임! (return 만나면 즉시 빠져나감)"
      ]
    },
    {
      "cell_type": "code",
      "metadata": {
        "id": "9w6tKz3OB5kM"
      },
      "source": [
        "def whoami(이름):\n",
        "  if 이름 == '이태후':\n",
        "    return\n",
        "  print('저는 %s 아닙니다.' % 이름)\n"
      ],
      "execution_count": null,
      "outputs": []
    },
    {
      "cell_type": "code",
      "metadata": {
        "colab": {
          "base_uri": "https://localhost:8080/"
        },
        "id": "wRKihWAxDCft",
        "outputId": "af25ab03-2ecb-4eb3-b3fd-023bd3f0b7f0"
      },
      "source": [
        "whoami('서채연')"
      ],
      "execution_count": null,
      "outputs": [
        {
          "output_type": "stream",
          "name": "stdout",
          "text": [
            "저는 서채연 아닙니다.\n"
          ]
        }
      ]
    },
    {
      "cell_type": "code",
      "metadata": {
        "id": "-8PWnunRC_BK"
      },
      "source": [
        "whoami('이태후')"
      ],
      "execution_count": null,
      "outputs": []
    },
    {
      "cell_type": "markdown",
      "metadata": {
        "id": "puAmTYfIDU9i"
      },
      "source": [
        "매개변수가 랜덤값이 아닐 경우 (초기값 미리 설정)"
      ]
    },
    {
      "cell_type": "code",
      "metadata": {
        "colab": {
          "base_uri": "https://localhost:8080/"
        },
        "id": "ZwbO2fKwDFN9",
        "outputId": "50f7884c-9a13-4ffb-bad8-1c2ac3af2eb7"
      },
      "source": [
        "def myself(name, age, man=True):\n",
        "  print('나의 이름은 %s입니다.' % name)\n",
        "  print('나의 나이는 %d입니다.' % age)\n",
        "  if man: #이미 man이라는 매개변수의 인수는 True이다.\n",
        "    print('남자입니다.')\n",
        "  else:\n",
        "    print('여자입니다.')\n",
        "  \n",
        "myself('서채연', 23, 0)"
      ],
      "execution_count": null,
      "outputs": [
        {
          "output_type": "stream",
          "name": "stdout",
          "text": [
            "나의 이름은 서채연입니다.\n",
            "나의 나이는 23입니다.\n",
            "여자입니다.\n"
          ]
        }
      ]
    },
    {
      "cell_type": "markdown",
      "metadata": {
        "id": "f9ZA93KGFwBT"
      },
      "source": [
        "함수 내 매개변수는 함수 안에서만 적용!"
      ]
    },
    {
      "cell_type": "code",
      "metadata": {
        "colab": {
          "base_uri": "https://localhost:8080/"
        },
        "id": "_ZjyVT37Er9o",
        "outputId": "6befb2ec-43e3-4d2a-9784-25a29231a4a6"
      },
      "source": [
        "a = 1\n",
        "def function(a):\n",
        "  a = a + 1 #결과값은 돌려주지 않는다!\n",
        "\n",
        "function(a)\n",
        "print(a) # a=function(a) 라는 설정 없으므로 a값은 언제나 1"
      ],
      "execution_count": null,
      "outputs": [
        {
          "output_type": "execute_result",
          "data": {
            "text/plain": [
              "1"
            ]
          },
          "metadata": {},
          "execution_count": 68
        }
      ]
    },
    {
      "cell_type": "code",
      "metadata": {
        "colab": {
          "base_uri": "https://localhost:8080/"
        },
        "id": "1GwstS7DHwHu",
        "outputId": "70cc7075-9298-4192-e2fa-6f8bd51724ad"
      },
      "source": [
        "a = 1\n",
        "def function(a):\n",
        "  a = a + 1\n",
        "  return a\n",
        "a = function(a) \n",
        "a"
      ],
      "execution_count": null,
      "outputs": [
        {
          "output_type": "execute_result",
          "data": {
            "text/plain": [
              "2"
            ]
          },
          "metadata": {},
          "execution_count": 69
        }
      ]
    },
    {
      "cell_type": "markdown",
      "metadata": {
        "id": "exZkXXsZIcan"
      },
      "source": [
        "lambda 예약어"
      ]
    },
    {
      "cell_type": "code",
      "metadata": {
        "colab": {
          "base_uri": "https://localhost:8080/"
        },
        "id": "SrZ9OhAoIfTl",
        "outputId": "1cae4040-b808-4a24-e510-3f0076a694a5"
      },
      "source": [
        "add = lambda a, b : a + b\n",
        "result = add(3,4)\n",
        "print(result) #lambda의 경우 return 명령 없어도 결과값 출력."
      ],
      "execution_count": null,
      "outputs": [
        {
          "output_type": "stream",
          "name": "stdout",
          "text": [
            "7\n"
          ]
        }
      ]
    },
    {
      "cell_type": "markdown",
      "metadata": {
        "id": "UrTp6uUNI7Vq"
      },
      "source": [
        "사용자 입출력"
      ]
    },
    {
      "cell_type": "code",
      "metadata": {
        "colab": {
          "base_uri": "https://localhost:8080/"
        },
        "id": "jue9JRSBIoSf",
        "outputId": "93293cb9-7d72-4151-cb34-db00053bcccf"
      },
      "source": [
        "a = input()\n"
      ],
      "execution_count": null,
      "outputs": [
        {
          "name": "stdout",
          "output_type": "stream",
          "text": [
            "life\n"
          ]
        }
      ]
    },
    {
      "cell_type": "code",
      "metadata": {
        "colab": {
          "base_uri": "https://localhost:8080/"
        },
        "id": "mej2D3imJDf4",
        "outputId": "3044d18f-d276-4820-eb4d-43b070e82d45"
      },
      "source": [
        "b = input('숫자를 입력하세요: ')\n",
        "print(b)"
      ],
      "execution_count": null,
      "outputs": [
        {
          "output_type": "stream",
          "name": "stdout",
          "text": [
            "숫자를 입력하세요: 3\n",
            "3\n"
          ]
        }
      ]
    },
    {
      "cell_type": "code",
      "metadata": {
        "colab": {
          "base_uri": "https://localhost:8080/"
        },
        "id": "7QzyIwnXJM8v",
        "outputId": "971fc6ea-46ff-4a43-e047-4583e134a2a1"
      },
      "source": [
        "type(b) #input은 모든것을 문자로 취급!(사용자 입력값)"
      ],
      "execution_count": null,
      "outputs": [
        {
          "output_type": "execute_result",
          "data": {
            "text/plain": [
              "str"
            ]
          },
          "metadata": {},
          "execution_count": 77
        }
      ]
    },
    {
      "cell_type": "markdown",
      "metadata": {
        "id": "fcIq8HpeJrcH"
      },
      "source": [
        "print의 특징"
      ]
    },
    {
      "cell_type": "code",
      "metadata": {
        "colab": {
          "base_uri": "https://localhost:8080/"
        },
        "id": "O7D_62c2Jfw0",
        "outputId": "58eb190e-d64a-40af-c56e-76bc135c10f8"
      },
      "source": [
        "print('life' 'is' 'short')\n",
        "#따옴표의 나열 = +연산자와 동일"
      ],
      "execution_count": null,
      "outputs": [
        {
          "output_type": "stream",
          "name": "stdout",
          "text": [
            "lifeisshort\n"
          ]
        }
      ]
    },
    {
      "cell_type": "code",
      "metadata": {
        "colab": {
          "base_uri": "https://localhost:8080/"
        },
        "id": "nNYIlylYJ0hW",
        "outputId": "c0f2c76b-b2c0-4e9b-8fb4-914dc14442ac"
      },
      "source": [
        "print('life', 'is', 'short')\n",
        "#띄어쓰기 = 쉼표(\",\")"
      ],
      "execution_count": null,
      "outputs": [
        {
          "output_type": "stream",
          "name": "stdout",
          "text": [
            "life is short\n"
          ]
        }
      ]
    },
    {
      "cell_type": "code",
      "metadata": {
        "colab": {
          "base_uri": "https://localhost:8080/"
        },
        "id": "pWTVEdUeJ73X",
        "outputId": "edabdcbe-e3b7-42ef-f41e-77e4d8295a32"
      },
      "source": [
        "for k in range(10):\n",
        "  print(k, end = ' ') #줄넘김 대신 한 줄 표현하려면, 매개변수 end 사용"
      ],
      "execution_count": null,
      "outputs": [
        {
          "output_type": "stream",
          "name": "stdout",
          "text": [
            "0 1 2 3 4 5 6 7 8 9 "
          ]
        }
      ]
    },
    {
      "cell_type": "markdown",
      "metadata": {
        "id": "Fyrqt1QhLCFB"
      },
      "source": [
        "파일 (다시 해보기)"
      ]
    },
    {
      "cell_type": "code",
      "metadata": {
        "id": "F1O7veIqOKJg",
        "colab": {
          "base_uri": "https://localhost:8080/"
        },
        "outputId": "63ee0262-0996-403b-e367-6a1e3ad6f325"
      },
      "source": [
        "def is_odd(a):\n",
        "  if a % 2 == 0:\n",
        "    return True\n",
        "  else:\n",
        "    return False\n",
        "  \n",
        "num = is_odd(5)\n",
        "print(num)"
      ],
      "execution_count": 6,
      "outputs": [
        {
          "output_type": "stream",
          "name": "stdout",
          "text": [
            "False\n"
          ]
        }
      ]
    },
    {
      "cell_type": "code",
      "metadata": {
        "colab": {
          "base_uri": "https://localhost:8080/"
        },
        "id": "emT7seZr4qo8",
        "outputId": "5345b4eb-b944-4de0-a6a5-af93bffb2850"
      },
      "source": [
        "def avg(*a):\n",
        "  sum = 0\n",
        "  for k in a:\n",
        "    sum = sum + k\n",
        "  return sum / len(a)\n",
        "\n",
        "result = avg(2,4,6,8)\n",
        "print(result)"
      ],
      "execution_count": 11,
      "outputs": [
        {
          "output_type": "stream",
          "name": "stdout",
          "text": [
            "5.0\n"
          ]
        }
      ]
    },
    {
      "cell_type": "code",
      "metadata": {
        "colab": {
          "base_uri": "https://localhost:8080/"
        },
        "id": "J4v3L4_r7Vgq",
        "outputId": "7a98dc6f-2227-4a4b-a4ae-f4f16b7647f8"
      },
      "source": [
        "input1 = input('첫번째 숫자를 입력하세요:')\n",
        "input2 = input('두번째 숫자를 입력하세요:')\n",
        "\n",
        "total = int(input1) + int(input2) #매개변수 출력값은 문자\n",
        "print('두 수의 합은 %s입니다' % total)"
      ],
      "execution_count": 13,
      "outputs": [
        {
          "output_type": "stream",
          "name": "stdout",
          "text": [
            "첫번째 숫자를 입력하세요:3\n",
            "두번째 숫자를 입력하세요:6\n",
            "두 수의 합은 9입니다\n"
          ]
        }
      ]
    },
    {
      "cell_type": "code",
      "metadata": {
        "id": "57JMXvgC7zIL"
      },
      "source": [
        ""
      ],
      "execution_count": null,
      "outputs": []
    }
  ]
}